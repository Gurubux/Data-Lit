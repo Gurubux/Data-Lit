{
  "nbformat": 4,
  "nbformat_minor": 0,
  "metadata": {
    "colab": {
      "name": "airlines_least_delay.ipynb",
      "version": "0.3.2",
      "provenance": [],
      "collapsed_sections": [],
      "include_colab_link": true
    },
    "kernelspec": {
      "name": "python3",
      "display_name": "Python 3"
    }
  },
  "cells": [
    {
      "cell_type": "markdown",
      "metadata": {
        "id": "view-in-github",
        "colab_type": "text"
      },
      "source": [
        "<a href=\"https://colab.research.google.com/github/Gurubux/Data-Lit/blob/master/airlines_least_delay.ipynb\" target=\"_parent\"><img src=\"https://colab.research.google.com/assets/colab-badge.svg\" alt=\"Open In Colab\"/></a>"
      ]
    },
    {
      "metadata": {
        "id": "tVey73eP9FRI",
        "colab_type": "code",
        "colab": {}
      },
      "cell_type": "code",
      "source": [
        ""
      ],
      "execution_count": 0,
      "outputs": []
    },
    {
      "metadata": {
        "id": "UiScli38GpNC",
        "colab_type": "code",
        "colab": {}
      },
      "cell_type": "code",
      "source": [
        "import pandas as pd\n",
        "import matplotlib.pyplot as plt"
      ],
      "execution_count": 0,
      "outputs": []
    },
    {
      "metadata": {
        "id": "qTiCcpEBHOGa",
        "colab_type": "code",
        "colab": {}
      },
      "cell_type": "code",
      "source": [
        "flights = pd.read_csv('https://media.githubusercontent.com/media/WillKoehrsen/Data-Analysis/master/univariate_dist/data/flights.csv')\n",
        "#flights.head(10)"
      ],
      "execution_count": 0,
      "outputs": []
    },
    {
      "metadata": {
        "id": "RXMuyx8EKqpn",
        "colab_type": "code",
        "colab": {
          "base_uri": "https://localhost:8080/",
          "height": 34
        },
        "outputId": "8c9d2172-1020-4fe1-d3f1-40b4fc91a976"
      },
      "cell_type": "code",
      "source": [
        "#print(flights.shape)\n",
        "#print(flights['carrier'].unique())\n",
        "\n",
        "carriers = flights['carrier'].unique()\n",
        "#print(type(carriers))\n",
        "len(flights['carrier'].unique())\n"
      ],
      "execution_count": 50,
      "outputs": [
        {
          "output_type": "execute_result",
          "data": {
            "text/plain": [
              "16"
            ]
          },
          "metadata": {
            "tags": []
          },
          "execution_count": 50
        }
      ]
    },
    {
      "metadata": {
        "id": "EsgDcUjvOCuD",
        "colab_type": "code",
        "colab": {}
      },
      "cell_type": "code",
      "source": [
        "carriers_arr_delay_total_mean={}\n",
        "carriers_arr_delay_positive_mean={}\n",
        "for x in carriers:\n",
        "  carrier_i = flights[(flights.carrier == x) & (flights.arr_delay >=0)]\n",
        "  carriers_arr_delay_positive_mean[x]=carrier_i['arr_delay'].mean()\n",
        "  #print(x,'\\n',carrier_i['arr_delay'].describe())"
      ],
      "execution_count": 0,
      "outputs": []
    },
    {
      "metadata": {
        "id": "Oup8gOpOPB7X",
        "colab_type": "code",
        "colab": {}
      },
      "cell_type": "code",
      "source": [
        "for x in carriers:\n",
        "  carrier_j = flights[(flights.carrier == x)]\n",
        "  carriers_arr_delay_total_mean[x]=carrier_j['arr_delay'].mean()\n",
        "  #print(x,'\\n',carrier_j[carrier_[x]=='AS']['arr_delay'].describe())\n",
        "#flights[(flights.carrier == 'AS')]['arr_delay'].describe()"
      ],
      "execution_count": 0,
      "outputs": []
    },
    {
      "metadata": {
        "id": "cRtvCSEbV7_9",
        "colab_type": "code",
        "colab": {}
      },
      "cell_type": "code",
      "source": [
        "#carriers_arr_delay_total_mean"
      ],
      "execution_count": 0,
      "outputs": []
    },
    {
      "metadata": {
        "id": "oqEUym97V_wE",
        "colab_type": "code",
        "colab": {}
      },
      "cell_type": "code",
      "source": [
        "#carriers_arr_delay_positive_mean"
      ],
      "execution_count": 0,
      "outputs": []
    },
    {
      "metadata": {
        "id": "tXqian0vWapd",
        "colab_type": "code",
        "colab": {
          "base_uri": "https://localhost:8080/",
          "height": 295
        },
        "outputId": "dcaf47ae-df69-4924-f090-00c03d237dd2"
      },
      "cell_type": "code",
      "source": [
        "plt.bar(range(len(carriers_arr_delay_total_mean)), list(carriers_arr_delay_total_mean.values()), align='center')\n",
        "plt.xticks(range(len(carriers_arr_delay_total_mean)), list(carriers_arr_delay_total_mean.keys()))\n",
        "plt.title('Carrier based Mean Arrival Delays')\n",
        "plt.xlabel('Carriers')\n",
        "plt.ylabel('Mean Arrival Delay')\n",
        "plt.show()"
      ],
      "execution_count": 55,
      "outputs": [
        {
          "output_type": "display_data",
          "data": {
            "image/png": "[encoded data removed]",
            "text/plain": [
              "<Figure size 432x288 with 1 Axes>"
            ]
          },
          "metadata": {
            "tags": []
          }
        }
      ]
    },
    {
      "metadata": {
        "id": "eVDBUUSmYLud",
        "colab_type": "code",
        "colab": {
          "base_uri": "https://localhost:8080/",
          "height": 295
        },
        "outputId": "d9035f78-856d-4899-9861-9c2b231ab545"
      },
      "cell_type": "code",
      "source": [
        "plt.bar(range(len(carriers_arr_delay_positive_mean)), list(carriers_arr_delay_positive_mean.values()), align='center')\n",
        "plt.xticks(range(len(carriers_arr_delay_positive_mean)), list(carriers_arr_delay_positive_mean.keys()))\n",
        "plt.title('Carrier based Mean Arrival Delays(Ex. Early arrivals)')\n",
        "plt.xlabel('Carriers')\n",
        "plt.ylabel('Mean Arrival Delays')\n",
        "plt.show()"
      ],
      "execution_count": 56,
      "outputs": [
        {
          "output_type": "display_data",
          "data": {
            "image/png": "[encoded data removed]",
            "text/plain": [
              "<Figure size 432x288 with 1 Axes>"
            ]
          },
          "metadata": {
            "tags": []
          }
        }
      ]
    },
    {
      "metadata": {
        "id": "n0YvBN0Ia4kr",
        "colab_type": "code",
        "colab": {}
      },
      "cell_type": "code",
      "source": [
        "carriers_arr_delay_mean_of_pos_tot={}\n",
        "for carrier in carriers_arr_delay_total_mean: \n",
        "    carriers_arr_delay_mean_of_pos_tot[carrier]=(carriers_arr_delay_total_mean[carrier]+carriers_arr_delay_positive_mean[carrier]) / 2\n",
        "#carriers_arr_delay_mean_of_pos_tot"
      ],
      "execution_count": 0,
      "outputs": []
    },
    {
      "metadata": {
        "id": "8IeitkogbjBK",
        "colab_type": "code",
        "colab": {
          "base_uri": "https://localhost:8080/",
          "height": 295
        },
        "outputId": "f725af76-6c57-4f83-8b2a-f3059e27f08c"
      },
      "cell_type": "code",
      "source": [
        "plt.bar(range(len(carriers_arr_delay_mean_of_pos_tot)), list(carriers_arr_delay_mean_of_pos_tot.values()), align='center')\n",
        "plt.xticks(range(len(carriers_arr_delay_mean_of_pos_tot)), list(carriers_arr_delay_mean_of_pos_tot.keys()))\n",
        "plt.title('Carrier based Mean Arrival Delays (MEAN of MEANs)')\n",
        "plt.xlabel('Carriers')\n",
        "plt.ylabel('Mean Arrival Delays')\n",
        "plt.show()\n"
      ],
      "execution_count": 58,
      "outputs": [
        {
          "output_type": "display_data",
          "data": {
            "image/png": "[encoded data removed]",
            "text/plain": [
              "<Figure size 432x288 with 1 Axes>"
            ]
          },
          "metadata": {
            "tags": []
          }
        }
      ]
    }
  ]
}