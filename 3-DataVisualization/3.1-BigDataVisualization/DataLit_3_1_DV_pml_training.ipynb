{
  "nbformat": 4,
  "nbformat_minor": 0,
  "metadata": {
    "colab": {
      "name": "DataLit-3.1-DV-pml-training.ipynb",
      "version": "0.3.2",
      "provenance": [],
      "collapsed_sections": []
    },
    "kernelspec": {
      "name": "python3",
      "display_name": "Python 3"
    }
  },
  "cells": [
    {
      "cell_type": "code",
      "metadata": {
        "id": "m1t6H0HepMig",
        "colab_type": "code",
        "colab": {}
      },
      "source": [
        "import pandas as pd\n",
        "import io\n",
        "import numpy as np\n",
        "from sklearn.preprocessing import StandardScaler,LabelEncoder\n",
        "from sklearn.model_selection import train_test_split\n",
        "from sklearn.manifold import TSNE\n",
        "import matplotlib.pyplot as plt"
      ],
      "execution_count": 0,
      "outputs": []
    },
    {
      "cell_type": "markdown",
      "metadata": {
        "id": "qPE_TIOE0emT",
        "colab_type": "text"
      },
      "source": [
        "# Step 1: Download the data"
      ]
    },
    {
      "cell_type": "code",
      "metadata": {
        "id": "m-ltWyQstYZ_",
        "colab_type": "code",
        "colab": {}
      },
      "source": [
        "from google.colab import drive\n",
        "drive.mount('/content/drive')"
      ],
      "execution_count": 0,
      "outputs": []
    },
    {
      "cell_type": "code",
      "metadata": {
        "id": "ib4SmkM8ug4i",
        "colab_type": "code",
        "colab": {
          "base_uri": "https://localhost:8080/",
          "height": 34
        },
        "outputId": "359213ba-3480-4440-ab13-e09923606f8f"
      },
      "source": [
        "x = '/content/drive/My Drive/DataLit/pml-training.csv'\n",
        "dataframe_all = pd.read_csv(x, sep=',', na_values=\"NA\",low_memory=False)\n",
        "num_rows = dataframe_all.shape[0]\n",
        "dataframe_all.shape"
      ],
      "execution_count": 28,
      "outputs": [
        {
          "output_type": "execute_result",
          "data": {
            "text/plain": [
              "(19622, 160)"
            ]
          },
          "metadata": {
            "tags": []
          },
          "execution_count": 28
        }
      ]
    },
    {
      "cell_type": "markdown",
      "metadata": {
        "id": "OLd3F8s50jS1",
        "colab_type": "text"
      },
      "source": [
        "# Step 2: Remove useless data"
      ]
    },
    {
      "cell_type": "code",
      "metadata": {
        "id": "dSU-9fa40nSG",
        "colab_type": "code",
        "colab": {
          "base_uri": "https://localhost:8080/",
          "height": 221
        },
        "outputId": "9a563a65-9806-4feb-d98a-ae40abe33058"
      },
      "source": [
        "# count the number of missing elements (NaN) in each column\n",
        "counter_nan = dataframe_all.isnull().sum()\n",
        "counter_without_nan = counter_nan[counter_nan==0]\n",
        "\n",
        "# remove the columns with missing elements\n",
        "dataframe_all = dataframe_all[counter_without_nan.keys()]\n",
        "\n",
        "# remove the first 7 columns\n",
        "dataframe_all = dataframe_all.iloc[:,7:]\n",
        "\n",
        "columns = dataframe_all.columns"
      ],
      "execution_count": 32,
      "outputs": [
        {
          "output_type": "execute_result",
          "data": {
            "text/plain": [
              "Index(['pitch_arm', 'yaw_arm', 'total_accel_arm', 'gyros_arm_x', 'gyros_arm_y',\n",
              "       'gyros_arm_z', 'accel_arm_x', 'accel_arm_y', 'accel_arm_z',\n",
              "       'magnet_arm_x', 'magnet_arm_y', 'magnet_arm_z', 'roll_dumbbell',\n",
              "       'pitch_dumbbell', 'yaw_dumbbell', 'total_accel_dumbbell',\n",
              "       'gyros_dumbbell_x', 'gyros_dumbbell_y', 'gyros_dumbbell_z',\n",
              "       'accel_dumbbell_x', 'accel_dumbbell_y', 'accel_dumbbell_z',\n",
              "       'magnet_dumbbell_x', 'magnet_dumbbell_y', 'magnet_dumbbell_z',\n",
              "       'roll_forearm', 'pitch_forearm', 'yaw_forearm', 'total_accel_forearm',\n",
              "       'gyros_forearm_x', 'gyros_forearm_y', 'gyros_forearm_z',\n",
              "       'accel_forearm_x', 'accel_forearm_y', 'accel_forearm_z',\n",
              "       'magnet_forearm_x', 'magnet_forearm_y', 'magnet_forearm_z', 'classe'],\n",
              "      dtype='object')"
            ]
          },
          "metadata": {
            "tags": []
          },
          "execution_count": 32
        }
      ]
    },
    {
      "cell_type": "markdown",
      "metadata": {
        "id": "G3PSMOmS5495",
        "colab_type": "text"
      },
      "source": [
        "# Step 3: get features (x) and scale the features"
      ]
    },
    {
      "cell_type": "code",
      "metadata": {
        "id": "ObL-zap857PX",
        "colab_type": "code",
        "colab": {}
      },
      "source": [
        "# get x and convert it to numpy array\n",
        "x = dataframe_all.iloc[:,:-1].values # except the class label\n",
        "standard_scaler = StandardScaler()\n",
        "x_std = standard_scaler.fit_transform(x)\n",
        "#print(x,x_std) #[  22.5 -161.    34.  ...  -17.   654.   476. ] , [ 0.8836666  -2.24744576  0.80701719 ...  0.85192734  0.53770054 0.22311218]"
      ],
      "execution_count": 0,
      "outputs": []
    },
    {
      "cell_type": "markdown",
      "metadata": {
        "id": "f2fgFwrE7RL_",
        "colab_type": "text"
      },
      "source": [
        "# Step 4: get class labels y and then encode it into number "
      ]
    },
    {
      "cell_type": "code",
      "metadata": {
        "id": "zq-y82YJ7TrX",
        "colab_type": "code",
        "colab": {
          "base_uri": "https://localhost:8080/",
          "height": 34
        },
        "outputId": "d792698e-349b-432d-b5aa-906e960565f6"
      },
      "source": [
        "# get class label data\n",
        "y = dataframe_all.iloc[:,-1].values\n",
        "# encode the class label\n",
        "class_labels = np.unique(y)\n",
        "label_encoder = LabelEncoder()\n",
        "y = label_encoder.fit_transform(y)\n",
        "#print(class_labels,y)#['A' 'B' 'C' 'D' 'E'] [0 0 0 ... 4 4 4]"
      ],
      "execution_count": 38,
      "outputs": [
        {
          "output_type": "stream",
          "text": [
            "['A' 'B' 'C' 'D' 'E'] [0 0 0 ... 4 4 4]\n"
          ],
          "name": "stdout"
        }
      ]
    },
    {
      "cell_type": "markdown",
      "metadata": {
        "id": "3_HTinXb8DDv",
        "colab_type": "text"
      },
      "source": [
        "# Step 5: split the data into training set and test set"
      ]
    },
    {
      "cell_type": "code",
      "metadata": {
        "id": "vnwmTIvh8GRh",
        "colab_type": "code",
        "colab": {
          "base_uri": "https://localhost:8080/",
          "height": 34
        },
        "outputId": "f59edf2d-73a0-4449-dd70-f10ddd2856df"
      },
      "source": [
        "test_percentage = 0.1\n",
        "x_train, x_test, y_train, y_test = train_test_split(x_std, y, test_size = test_percentage, random_state = 0)\n",
        "#print(x_std.shape[0],x_train.shape[0],x_test.shape[0])#19622 17659 1963"
      ],
      "execution_count": 47,
      "outputs": [
        {
          "output_type": "stream",
          "text": [
            "19622 17659 1963\n"
          ],
          "name": "stdout"
        }
      ]
    },
    {
      "cell_type": "markdown",
      "metadata": {
        "id": "TfhmtyuI9E7h",
        "colab_type": "text"
      },
      "source": [
        "# Step 6 - t-distributed Stochastic Neighbor Embedding (t-SNE) visualization\n"
      ]
    },
    {
      "cell_type": "code",
      "metadata": {
        "id": "E6qvJn8U9KSQ",
        "colab_type": "code",
        "colab": {
          "base_uri": "https://localhost:8080/",
          "height": 357
        },
        "outputId": "1d84c7e7-8450-4c4d-a274-8e2df3bcdb6d"
      },
      "source": [
        "tsne = TSNE(n_components=2, random_state=0)\n",
        "x_test_2d = tsne.fit_transform(x_test) #Converted 38 columns into 2 columns\n",
        "#print(x_test.shape,x_test_2d.shape)#(1963, 38) (1963, 2)\n",
        "#print(x_test,x_test_2d)#[ 0.15031778  0.00867065  0.99709505 ... -0.83707859  0.38653067 0.58329264] , [ -7.8427043  -45.855007  ]"
      ],
      "execution_count": 51,
      "outputs": [
        {
          "output_type": "stream",
          "text": [
            "(1963, 38) (1963, 2)\n",
            "[[ 0.15031778  0.00867065  0.99709505 ... -0.83707859  0.38653067\n",
            "   0.58329264]\n",
            " [ 0.37586328  1.7182744   0.42686147 ... -1.32418098  1.53110254\n",
            "  -2.46605476]\n",
            " [ 0.31589165 -0.45236183 -1.37887817 ... -0.84572538  0.69476014\n",
            "   1.19532862]\n",
            " ...\n",
            " [ 0.58706774 -1.05212446 -0.33344996 ... -1.05901282 -0.05127298\n",
            "   0.13374409]\n",
            " [-0.98718772  0.35759798  0.5219004  ... -0.55173458 -1.2763379\n",
            "  -0.65973618]\n",
            " [ 2.51333064  1.67623496  0.33182254 ...  2.75133844 -1.07216041\n",
            "  -0.83034798]] [[ -7.8427043  -45.855007  ]\n",
            " [ 22.135414    52.613125  ]\n",
            " [-37.20349      4.1139803 ]\n",
            " ...\n",
            " [  4.132049   -10.805977  ]\n",
            " [  0.15130764   1.8831921 ]\n",
            " [-64.14779     20.989286  ]]\n"
          ],
          "name": "stdout"
        }
      ]
    },
    {
      "cell_type": "code",
      "metadata": {
        "id": "yX_PzCT7-zWQ",
        "colab_type": "code",
        "colab": {
          "base_uri": "https://localhost:8080/",
          "height": 187
        },
        "outputId": "1a711959-10da-4b5c-e403-4fa52189418b"
      },
      "source": [
        "for idx, cl in enumerate(np.unique(y_test)):\n",
        "  print(idx)\n",
        "  print(cl)"
      ],
      "execution_count": 53,
      "outputs": [
        {
          "output_type": "stream",
          "text": [
            "0\n",
            "0\n",
            "1\n",
            "1\n",
            "2\n",
            "2\n",
            "3\n",
            "3\n",
            "4\n",
            "4\n"
          ],
          "name": "stdout"
        }
      ]
    },
    {
      "cell_type": "markdown",
      "metadata": {
        "id": "BxSCWrtC-mwG",
        "colab_type": "text"
      },
      "source": [
        "# Step 7-Scatter plot the sample points among 5 classes"
      ]
    },
    {
      "cell_type": "code",
      "metadata": {
        "id": "39IebLHh-t8W",
        "colab_type": "code",
        "colab": {
          "base_uri": "https://localhost:8080/",
          "height": 295
        },
        "outputId": "abd35843-7d73-4e92-eb58-f79a890dc1c6"
      },
      "source": [
        "markers=('s', 'd', 'o', '^', 'v')\n",
        "color_map = {0:'red', 1:'blue', 2:'lightgreen', 3:'purple', 4:'cyan'}\n",
        "plt.figure()\n",
        "for idx, cl in enumerate(np.unique(y_test)):\n",
        "    plt.scatter(x=x_test_2d[y_test==cl,0], y=x_test_2d[y_test==cl,1], c=color_map[idx], marker=markers[idx], label=cl)\n",
        "plt.xlabel('X in t-SNE')\n",
        "plt.ylabel('Y in t-SNE')\n",
        "plt.legend(loc='upper left')\n",
        "plt.title('t-SNE visualization of test data')\n",
        "plt.show()"
      ],
      "execution_count": 55,
      "outputs": [
        {
          "output_type": "display_data",
          "data": {
            "image/png": "[encoded data removed]",
            "text/plain": [
              "<Figure size 432x288 with 1 Axes>"
            ]
          },
          "metadata": {
            "tags": []
          }
        }
      ]
    }
  ]
}