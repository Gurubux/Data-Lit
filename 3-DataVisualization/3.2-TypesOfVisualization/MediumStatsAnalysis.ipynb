{
 "cells": [
  {
   "cell_type": "markdown",
   "metadata": {},
   "source": [
    "## https://nbviewer.jupyter.org/github/WillKoehrsen/Data-Analysis/blob/master/medium/Medium%20Stats%20Analysis.ipynb\n"
   ]
  },
  {
   "cell_type": "markdown",
   "metadata": {
    "toc": true
   },
   "source": [
    "<h1>Table of Contents<span class=\"tocSkip\"></span></h1>\n",
    "<div class=\"toc\"><ul class=\"toc-item\"><li><span><a href=\"#Introduction:-Analysis-of-Medium-Stats\" data-toc-modified-id=\"Introduction:-Analysis-of-Medium-Stats-1\"><span class=\"toc-item-num\">1&nbsp;&nbsp;</span>Introduction: Analysis of Medium Stats</a></span><ul class=\"toc-item\"><li><span><a href=\"#Instructions\" data-toc-modified-id=\"Instructions-1.1\"><span class=\"toc-item-num\">1.1&nbsp;&nbsp;</span>Instructions</a></span></li></ul></li><li><span><a href=\"#Retrieve-Statistics\" data-toc-modified-id=\"Retrieve-Statistics-2\"><span class=\"toc-item-num\">2&nbsp;&nbsp;</span>Retrieve Statistics</a></span></li><li><span><a href=\"#Analysis\" data-toc-modified-id=\"Analysis-3\"><span class=\"toc-item-num\">3&nbsp;&nbsp;</span>Analysis</a></span><ul class=\"toc-item\"><li><span><a href=\"#Correlations\" data-toc-modified-id=\"Correlations-3.1\"><span class=\"toc-item-num\">3.1&nbsp;&nbsp;</span>Correlations</a></span></li><li><span><a href=\"#Correlation-Heatmap\" data-toc-modified-id=\"Correlation-Heatmap-3.2\"><span class=\"toc-item-num\">3.2&nbsp;&nbsp;</span>Correlation Heatmap</a></span></li><li><span><a href=\"#Scatterplot-Matrix\" data-toc-modified-id=\"Scatterplot-Matrix-3.3\"><span class=\"toc-item-num\">3.3&nbsp;&nbsp;</span>Scatterplot Matrix</a></span></li></ul></li><li><span><a href=\"#Histograms\" data-toc-modified-id=\"Histograms-4\"><span class=\"toc-item-num\">4&nbsp;&nbsp;</span>Histograms</a></span></li><li><span><a href=\"#Cumulative-Plot\" data-toc-modified-id=\"Cumulative-Plot-5\"><span class=\"toc-item-num\">5&nbsp;&nbsp;</span>Cumulative Plot</a></span></li><li><span><a href=\"#With-Range-Slider\" data-toc-modified-id=\"With-Range-Slider-6\"><span class=\"toc-item-num\">6&nbsp;&nbsp;</span>With Range Slider</a></span></li><li><span><a href=\"#Scatter-Plots\" data-toc-modified-id=\"Scatter-Plots-7\"><span class=\"toc-item-num\">7&nbsp;&nbsp;</span>Scatter Plots</a></span></li><li><span><a href=\"#Univariate-Linear-Regressions\" data-toc-modified-id=\"Univariate-Linear-Regressions-8\"><span class=\"toc-item-num\">8&nbsp;&nbsp;</span>Univariate Linear Regressions</a></span><ul class=\"toc-item\"><li><span><a href=\"#Views-Regressed-by-Word-Count\" data-toc-modified-id=\"Views-Regressed-by-Word-Count-8.1\"><span class=\"toc-item-num\">8.1&nbsp;&nbsp;</span>Views Regressed by Word Count</a></span></li><li><span><a href=\"#Read-Ratio-Regressed-by-Reading-Time\" data-toc-modified-id=\"Read-Ratio-Regressed-by-Reading-Time-8.2\"><span class=\"toc-item-num\">8.2&nbsp;&nbsp;</span>Read Ratio Regressed by Reading Time</a></span></li></ul></li><li><span><a href=\"#Univariate-Polynomial-Regressions\" data-toc-modified-id=\"Univariate-Polynomial-Regressions-9\"><span class=\"toc-item-num\">9&nbsp;&nbsp;</span>Univariate Polynomial Regressions</a></span></li><li><span><a href=\"#Multivariate-Regressions\" data-toc-modified-id=\"Multivariate-Regressions-10\"><span class=\"toc-item-num\">10&nbsp;&nbsp;</span>Multivariate Regressions</a></span></li><li><span><a href=\"#Extrapolations\" data-toc-modified-id=\"Extrapolations-11\"><span class=\"toc-item-num\">11&nbsp;&nbsp;</span>Extrapolations</a></span></li><li><span><a href=\"#Conclusions\" data-toc-modified-id=\"Conclusions-12\"><span class=\"toc-item-num\">12&nbsp;&nbsp;</span>Conclusions</a></span></li></ul></div>"
   ]
  },
  {
   "cell_type": "markdown",
   "metadata": {},
   "source": [
    "# Introduction: Analysis of Medium Stats\n",
    "\n",
    "In this notebook, we will analyze my Medium article stats. The functions for scraping and formatting the data were developed in the `Development` notebook, and here we will focus on looking at the data quantitatively and visually.\n",
    "\n",
    "## Instructions\n",
    "\n",
    "To apply to your own medium data\n",
    "\n",
    "1. Go to the stats page https://medium.com/me/stats\n",
    "2. Make sure to scroll all the way down to the bottom so all the articles are loaded\n",
    "3. Right click, and hit 'save as'. \n",
    "4. Save the file as `stats.html` in the `data/` directory. You can also save the responses to do a similar analysis.\n",
    "\n",
    "![](images/stats-saving-medium.gif)"
   ]
  },
  {
   "cell_type": "markdown",
   "metadata": {
    "ExecuteTime": {
     "end_time": "2018-12-30T19:26:29.786478Z",
     "start_time": "2018-12-30T19:26:29.660649Z"
    }
   },
   "source": [
    "    # Might need to run this on MAC for multiprocessing to work properly\n",
    "    # see https://stackoverflow.com/questions/50168647/multiprocessing-causes-python-to-crash-and-gives-an-error-may-have-been-in-progr\n",
    "    export OBJC_DISABLE_INITIALIZE_FORK_SAFETY=YES"
   ]
  },
  {
   "cell_type": "markdown",
   "metadata": {},
   "source": [
    "For any of the figures, I recommend opening them in plotly and touching them up. `plotly` is an incredible library and I highly it as a replacement for whatever plotting library you are using."
   ]
  },
  {
   "cell_type": "markdown",
   "metadata": {},
   "source": [
    "# Retrieve Statistics\n",
    "\n",
    "Thanks to a few functions already developed, you can get all of the statistics for your articles in under 10 seconds."
   ]
  },
  {
   "cell_type": "code",
   "execution_count": 1,
   "metadata": {
    "ExecuteTime": {
     "end_time": "2018-12-31T23:48:57.364766Z",
     "start_time": "2018-12-31T23:48:56.519122Z"
    }
   },
   "outputs": [
    {
     "ename": "ModuleNotFoundError",
     "evalue": "No module named 'retrieval'",
     "output_type": "error",
     "traceback": [
      "\u001b[1;31m---------------------------------------------------------------------------\u001b[0m",
      "\u001b[1;31mModuleNotFoundError\u001b[0m                       Traceback (most recent call last)",
      "\u001b[1;32m<ipython-input-1-22195eb31b9d>\u001b[0m in \u001b[0;36m<module>\u001b[1;34m()\u001b[0m\n\u001b[1;32m----> 1\u001b[1;33m \u001b[1;32mfrom\u001b[0m \u001b[0mretrieval\u001b[0m \u001b[1;32mimport\u001b[0m \u001b[0mprocess_in_parallel\u001b[0m\u001b[1;33m,\u001b[0m \u001b[0mget_table_rows\u001b[0m\u001b[1;33m\u001b[0m\u001b[0m\n\u001b[0m\u001b[0;32m      2\u001b[0m \u001b[1;33m\u001b[0m\u001b[0m\n\u001b[0;32m      3\u001b[0m \u001b[0mtable_rows\u001b[0m \u001b[1;33m=\u001b[0m \u001b[0mget_table_rows\u001b[0m\u001b[1;33m(\u001b[0m\u001b[0mfname\u001b[0m\u001b[1;33m=\u001b[0m\u001b[1;34m'stats.html'\u001b[0m\u001b[1;33m)\u001b[0m\u001b[1;33m\u001b[0m\u001b[0m\n",
      "\u001b[1;31mModuleNotFoundError\u001b[0m: No module named 'retrieval'"
     ]
    }
   ],
   "source": [
    "from retrieval import process_in_parallel, get_table_rows\n",
    "\n",
    "table_rows = get_table_rows(fname='stats.html')"
   ]
  },
  {
   "cell_type": "markdown",
   "metadata": {},
   "source": [
    "Each of these entries is a separate article. To get the information about each article, we use the next function. This scrapes both the article metadata and the article itself (using `requests` and `BeautifulSoup`)."
   ]
  },
  {
   "cell_type": "code",
   "execution_count": null,
   "metadata": {
    "ExecuteTime": {
     "end_time": "2018-12-31T23:49:04.958470Z",
     "start_time": "2018-12-31T23:48:58.444877Z"
    }
   },
   "outputs": [],
   "source": [
    "df = process_in_parallel(table_rows=table_rows, processes=25)\n",
    "df.head()"
   ]
  },
  {
   "cell_type": "markdown",
   "metadata": {},
   "source": [
    "# Analysis\n",
    "\n",
    "With the comprehensive data, we can do any sort of analysis we want. There's a lot of data here and I'm sure you'll be able to find other interesting things to do with the data."
   ]
  },
  {
   "cell_type": "code",
   "execution_count": null,
   "metadata": {
    "ExecuteTime": {
     "end_time": "2018-12-31T23:49:06.793852Z",
     "start_time": "2018-12-31T23:49:04.961605Z"
    }
   },
   "outputs": [],
   "source": [
    "# Data science imports\n",
    "import pandas as pd\n",
    "import numpy as np\n",
    "\n",
    "%load_ext autoreload\n",
    "%autoreload 2\n",
    "\n",
    "# Options for pandas\n",
    "pd.options.display.max_columns = 25\n",
    "\n",
    "# Display all cell outputs\n",
    "from IPython.core.interactiveshell import InteractiveShell\n",
    "InteractiveShell.ast_node_interactivity = 'all'\n",
    "\n",
    "import plotly.plotly as py\n",
    "import plotly.graph_objs as go\n",
    "import plotly.figure_factory as ff\n",
    "from plotly.offline import iplot\n",
    "\n",
    "import cufflinks\n",
    "cufflinks.go_offline()"
   ]
  },
  {
   "cell_type": "markdown",
   "metadata": {},
   "source": [
    "## Correlations\n",
    "\n",
    "We can start off by looking at correlations. We'll limit this to the `published` articles for now."
   ]
  },
  {
   "cell_type": "code",
   "execution_count": null,
   "metadata": {
    "ExecuteTime": {
     "end_time": "2018-12-31T23:49:06.880359Z",
     "start_time": "2018-12-31T23:49:06.796476Z"
    }
   },
   "outputs": [],
   "source": [
    "corrs = df[df['type'] == 'published'].corr()\n",
    "corrs.round(2)"
   ]
  },
  {
   "cell_type": "markdown",
   "metadata": {},
   "source": [
    "If we are looking at maximizing claps, what do we want to focus on?"
   ]
  },
  {
   "cell_type": "code",
   "execution_count": null,
   "metadata": {
    "ExecuteTime": {
     "end_time": "2018-12-31T23:49:09.503041Z",
     "start_time": "2018-12-31T23:49:09.455348Z"
    }
   },
   "outputs": [],
   "source": [
    "corrs['claps'].sort_values(ascending=False)"
   ]
  },
  {
   "cell_type": "markdown",
   "metadata": {},
   "source": [
    "Okay, so most of these occur after the article is released. However, the tag `Towards Data Science` seems to help quite a bit! It also looks like the read time is negatively correlated with the number of claps. "
   ]
  },
  {
   "cell_type": "markdown",
   "metadata": {},
   "source": [
    "## Correlation Heatmap\n",
    "\n",
    "Using the `plotly` python library, we can very rapidly create interactive great looking charts.\n",
    "\n",
    "Here are the avaiable colorscales if you want to try others:\n",
    "\n",
    "    colorscales = ['Greys', 'YlGnBu', 'Greens', 'YlOrRd', 'Bluered', 'RdBu',\n",
    "            'Reds', 'Blues', 'Picnic', 'Rainbow', 'Portland', 'Jet',\n",
    "            'Hot', 'Blackbody', 'Earth', 'Electric', 'Viridis', 'Cividis']"
   ]
  },
  {
   "cell_type": "code",
   "execution_count": null,
   "metadata": {
    "ExecuteTime": {
     "end_time": "2018-12-31T23:49:13.876562Z",
     "start_time": "2018-12-31T23:49:13.825839Z"
    }
   },
   "outputs": [],
   "source": [
    "colorscales = ['Greys', 'YlGnBu', 'Greens', 'YlOrRd', 'Bluered', 'RdBu',\n",
    "        'Reds', 'Blues', 'Picnic', 'Rainbow', 'Portland', 'Jet',\n",
    "        'Hot', 'Blackbody', 'Earth', 'Electric', 'Viridis', 'Cividis']"
   ]
  },
  {
   "cell_type": "code",
   "execution_count": null,
   "metadata": {
    "ExecuteTime": {
     "end_time": "2018-12-31T23:49:15.386466Z",
     "start_time": "2018-12-31T23:49:13.879949Z"
    }
   },
   "outputs": [],
   "source": [
    "figure = ff.create_annotated_heatmap(z = corrs.round(2).values, \n",
    "                                     x =list(corrs.columns), \n",
    "                                     y=list(corrs.index), \n",
    "                                     colorscale='Portland',\n",
    "                                     annotation_text=corrs.round(2).values)\n",
    "iplot(figure)"
   ]
  },
  {
   "cell_type": "markdown",
   "metadata": {},
   "source": [
    "Correlations by themselves don't tell us that much. It does not help that most of these are pretty obvious, such as the `claps` and `fans` will be highly correlated. Sometimes correlations by themselves are useful, but not really in this case."
   ]
  },
  {
   "cell_type": "markdown",
   "metadata": {},
   "source": [
    "## Scatterplot Matrix"
   ]
  },
  {
   "cell_type": "code",
   "execution_count": null,
   "metadata": {
    "ExecuteTime": {
     "end_time": "2018-12-31T23:49:18.488935Z",
     "start_time": "2018-12-31T23:49:17.928856Z"
    }
   },
   "outputs": [],
   "source": [
    "figure = ff.create_scatterplotmatrix(df[['read_time', 'claps', 'type']],\n",
    "                                     index = 'type', colormap='Jet', title='Scatterplot Matrix by Type',\n",
    "                                     diag='histogram', width=800, height=800)\n",
    "iplot(figure)"
   ]
  },
  {
   "cell_type": "code",
   "execution_count": null,
   "metadata": {
    "ExecuteTime": {
     "end_time": "2018-12-31T23:49:18.894167Z",
     "start_time": "2018-12-31T23:49:18.492469Z"
    }
   },
   "outputs": [],
   "source": [
    "figure = ff.create_scatterplotmatrix(df[['read_time', 'claps', 'publication']],\n",
    "                                     index = 'publication', title='Scatterplot Matrix by Publication',\n",
    "                                     diag='histogram', width=800, height=800)\n",
    "iplot(figure)"
   ]
  },
  {
   "cell_type": "code",
   "execution_count": null,
   "metadata": {
    "ExecuteTime": {
     "end_time": "2018-12-31T23:49:19.927627Z",
     "start_time": "2018-12-31T23:49:18.896774Z"
    }
   },
   "outputs": [],
   "source": [
    "figure = ff.create_scatterplotmatrix(df[['read_time', 'claps', 'views',\n",
    "                                         'num_responses', 'publication']],\n",
    "                                     index = 'publication', \n",
    "                                     diag='histogram', \n",
    "                                     size=8, width=1000, height=1000,\n",
    "                                     title='Scatterplot Matrix by Publication')\n",
    "\n",
    "iplot(figure)"
   ]
  },
  {
   "cell_type": "code",
   "execution_count": null,
   "metadata": {
    "ExecuteTime": {
     "end_time": "2018-12-31T23:49:20.686213Z",
     "start_time": "2018-12-31T23:49:19.932108Z"
    }
   },
   "outputs": [],
   "source": [
    "figure = ff.create_scatterplotmatrix(df[['read_time', 'views', 'read_ratio', 'publication']],\n",
    "                                     index = 'publication', \n",
    "                                     diag='histogram', \n",
    "                                     size=8, width=1000, height=1000,\n",
    "                                     title='Scatterplot Matrix by Publication')\n",
    "\n",
    "iplot(figure)"
   ]
  },
  {
   "cell_type": "markdown",
   "metadata": {},
   "source": [
    "# Histograms"
   ]
  },
  {
   "cell_type": "code",
   "execution_count": null,
   "metadata": {
    "ExecuteTime": {
     "end_time": "2018-12-31T23:49:21.639684Z",
     "start_time": "2018-12-31T23:49:20.688276Z"
    }
   },
   "outputs": [],
   "source": [
    "from visuals import make_hist"
   ]
  },
  {
   "cell_type": "code",
   "execution_count": null,
   "metadata": {
    "ExecuteTime": {
     "end_time": "2018-12-31T23:49:21.967586Z",
     "start_time": "2018-12-31T23:49:21.642984Z"
    }
   },
   "outputs": [],
   "source": [
    "figure = make_hist(df, x='views', category='publication')\n",
    "iplot(figure)"
   ]
  },
  {
   "cell_type": "code",
   "execution_count": null,
   "metadata": {
    "ExecuteTime": {
     "end_time": "2018-12-31T23:49:22.238888Z",
     "start_time": "2018-12-31T23:49:21.972583Z"
    }
   },
   "outputs": [],
   "source": [
    "figure = make_hist(df, x='word_count', category='type')\n",
    "iplot(figure)"
   ]
  },
  {
   "cell_type": "code",
   "execution_count": null,
   "metadata": {
    "ExecuteTime": {
     "end_time": "2018-12-31T23:49:22.595325Z",
     "start_time": "2018-12-31T23:49:22.243364Z"
    }
   },
   "outputs": [],
   "source": [
    "figure=make_hist(df, x='claps')\n",
    "iplot(figure)"
   ]
  },
  {
   "cell_type": "markdown",
   "metadata": {},
   "source": [
    "# Cumulative Plot"
   ]
  },
  {
   "cell_type": "code",
   "execution_count": null,
   "metadata": {
    "ExecuteTime": {
     "end_time": "2018-12-31T23:49:22.671300Z",
     "start_time": "2018-12-31T23:49:22.597305Z"
    }
   },
   "outputs": [],
   "source": [
    "from visuals import make_cum_plot"
   ]
  },
  {
   "cell_type": "code",
   "execution_count": null,
   "metadata": {
    "ExecuteTime": {
     "end_time": "2018-12-31T23:49:22.843957Z",
     "start_time": "2018-12-31T23:49:22.673615Z"
    }
   },
   "outputs": [],
   "source": [
    "figure = make_cum_plot(df, y='views')\n",
    "iplot(figure)"
   ]
  },
  {
   "cell_type": "code",
   "execution_count": null,
   "metadata": {
    "ExecuteTime": {
     "end_time": "2018-12-31T23:49:23.026667Z",
     "start_time": "2018-12-31T23:49:22.846395Z"
    }
   },
   "outputs": [],
   "source": [
    "figure = make_cum_plot(df, y='word_count')\n",
    "iplot(figure)"
   ]
  },
  {
   "cell_type": "code",
   "execution_count": null,
   "metadata": {
    "ExecuteTime": {
     "end_time": "2018-12-31T23:49:23.248197Z",
     "start_time": "2018-12-31T23:49:23.028936Z"
    }
   },
   "outputs": [],
   "source": [
    "figure = make_cum_plot(df, y='views', category='publication')\n",
    "iplot(figure)"
   ]
  },
  {
   "cell_type": "code",
   "execution_count": null,
   "metadata": {
    "ExecuteTime": {
     "end_time": "2018-12-31T23:49:23.456633Z",
     "start_time": "2018-12-31T23:49:23.250810Z"
    }
   },
   "outputs": [],
   "source": [
    "figure = make_cum_plot(df, y=['word_count', 'views'])\n",
    "iplot(figure)"
   ]
  },
  {
   "cell_type": "code",
   "execution_count": null,
   "metadata": {
    "ExecuteTime": {
     "end_time": "2018-12-31T23:49:23.680678Z",
     "start_time": "2018-12-31T23:49:23.459252Z"
    }
   },
   "outputs": [],
   "source": [
    "figure = make_cum_plot(df, y=['views', 'reads'])\n",
    "iplot(figure)"
   ]
  },
  {
   "cell_type": "markdown",
   "metadata": {},
   "source": [
    "# With Range Slider\n",
    "\n",
    "The neat part about plotly is we can easily add more elements to our plots. For example, to make a range selector and a range slider, let's just pass in an extra parameter to the function."
   ]
  },
  {
   "cell_type": "code",
   "execution_count": null,
   "metadata": {
    "ExecuteTime": {
     "end_time": "2018-12-31T23:49:23.969530Z",
     "start_time": "2018-12-31T23:49:23.684833Z"
    }
   },
   "outputs": [],
   "source": [
    "figure = make_cum_plot(df, 'word_count', ranges=True)\n",
    "iplot(figure)"
   ]
  },
  {
   "cell_type": "code",
   "execution_count": null,
   "metadata": {
    "ExecuteTime": {
     "end_time": "2018-12-31T23:49:24.195664Z",
     "start_time": "2018-12-31T23:49:23.973325Z"
    }
   },
   "outputs": [],
   "source": [
    "figure = make_cum_plot(df, 'read_time', ranges=True)\n",
    "iplot(figure)"
   ]
  },
  {
   "cell_type": "markdown",
   "metadata": {},
   "source": [
    "# Scatter Plots"
   ]
  },
  {
   "cell_type": "code",
   "execution_count": null,
   "metadata": {
    "ExecuteTime": {
     "end_time": "2018-12-31T23:49:25.157049Z",
     "start_time": "2018-12-31T23:49:25.077815Z"
    }
   },
   "outputs": [],
   "source": [
    "from visuals import make_scatter_plot"
   ]
  },
  {
   "cell_type": "code",
   "execution_count": null,
   "metadata": {
    "ExecuteTime": {
     "end_time": "2018-12-31T23:49:25.326738Z",
     "start_time": "2018-12-31T23:49:25.159626Z"
    }
   },
   "outputs": [],
   "source": [
    "figure = make_scatter_plot(df, x='read_time', y='read_ratio')\n",
    "iplot(figure)"
   ]
  },
  {
   "cell_type": "code",
   "execution_count": null,
   "metadata": {
    "ExecuteTime": {
     "end_time": "2018-12-31T23:49:25.510857Z",
     "start_time": "2018-12-31T23:49:25.329361Z"
    }
   },
   "outputs": [],
   "source": [
    "figure = make_scatter_plot(df, x='read_time', y='read_ratio', category='type')\n",
    "iplot(figure)"
   ]
  },
  {
   "cell_type": "code",
   "execution_count": null,
   "metadata": {
    "ExecuteTime": {
     "end_time": "2018-12-31T23:49:25.737801Z",
     "start_time": "2018-12-31T23:49:25.514545Z"
    }
   },
   "outputs": [],
   "source": [
    "figure = make_scatter_plot(df, x='read_time', y='views', ylog=True,\n",
    "                           category='type')\n",
    "iplot(figure)"
   ]
  },
  {
   "cell_type": "code",
   "execution_count": null,
   "metadata": {
    "ExecuteTime": {
     "end_time": "2018-12-31T23:49:25.955684Z",
     "start_time": "2018-12-31T23:49:25.740679Z"
    }
   },
   "outputs": [],
   "source": [
    "figure = make_scatter_plot(df, x='read_time', y='views', ylog=True,\n",
    "                           scale='read_ratio', sizeref=0.2)\n",
    "iplot(figure)"
   ]
  },
  {
   "cell_type": "code",
   "execution_count": null,
   "metadata": {
    "ExecuteTime": {
     "end_time": "2018-12-31T23:49:26.060916Z",
     "start_time": "2018-12-31T23:49:25.958150Z"
    }
   },
   "outputs": [],
   "source": [
    "df['binned_ratio'] = pd.cut(df['read_ratio'], list(range(0, 100, 10))).astype('str')\n",
    "df['binned_claps'] = pd.cut(df['claps'], list(np.insert(np.logspace(start=0, stop=5, num=6),0,-1).astype(int))).astype(str)"
   ]
  },
  {
   "cell_type": "code",
   "execution_count": null,
   "metadata": {
    "ExecuteTime": {
     "end_time": "2018-12-31T23:49:26.253780Z",
     "start_time": "2018-12-31T23:49:26.063960Z"
    }
   },
   "outputs": [],
   "source": [
    "figure = make_scatter_plot(df, x='word_count', y='fans',\n",
    "                           scale='claps', sizeref=5)\n",
    "iplot(figure)"
   ]
  },
  {
   "cell_type": "code",
   "execution_count": null,
   "metadata": {
    "ExecuteTime": {
     "end_time": "2018-12-31T23:49:26.558006Z",
     "start_time": "2018-12-31T23:49:26.257499Z"
    }
   },
   "outputs": [],
   "source": [
    "figure = make_scatter_plot(df, x='word_count', y='reads', xlog=True,\n",
    "                           scale='claps', sizeref=3)\n",
    "iplot(figure)"
   ]
  },
  {
   "cell_type": "markdown",
   "metadata": {},
   "source": [
    "# Univariate Linear Regressions"
   ]
  },
  {
   "cell_type": "markdown",
   "metadata": {},
   "source": [
    "For the linear regressions, we'll focus on articles that were published in Towards Data Science. This makes the relationships clearer because the other articles are a mixed bag. We'll start off using a single variable - univariate - and focusing on linear relationships."
   ]
  },
  {
   "cell_type": "code",
   "execution_count": null,
   "metadata": {
    "ExecuteTime": {
     "end_time": "2018-12-31T23:49:28.325906Z",
     "start_time": "2018-12-31T23:49:28.091900Z"
    }
   },
   "outputs": [],
   "source": [
    "tds = df[df['publication'] == 'Towards Data Science'].copy()\n",
    "figure = make_scatter_plot(tds, 'word_count', 'views')\n",
    "iplot(figure)"
   ]
  },
  {
   "cell_type": "markdown",
   "metadata": {},
   "source": [
    "## Views Regressed by Word Count"
   ]
  },
  {
   "cell_type": "markdown",
   "metadata": {},
   "source": [
    "Let's do a regression of the number of words versus the views for articles published in towards data science. We are using `statsmodels.api.OLS` which sets the intercept to be 0. I made this choice because the number of views can never be negative (sometimes we do need an intercept so I left this as a parameter)."
   ]
  },
  {
   "cell_type": "code",
   "execution_count": null,
   "metadata": {
    "ExecuteTime": {
     "end_time": "2018-12-31T23:49:30.623042Z",
     "start_time": "2018-12-31T23:49:30.535062Z"
    }
   },
   "outputs": [],
   "source": [
    "import statsmodels.api as sm\n",
    "\n",
    "lin_reg=sm.OLS(tds['views'], tds['word_count']).fit()\n",
    "lin_reg.summary()"
   ]
  },
  {
   "cell_type": "markdown",
   "metadata": {},
   "source": [
    "This tells us that for every extra word, I get 13 more views! If we look at the plot, there is one outlying data point beyond 5000 words. What happens if I stick to articles under 5000 words published on Towards Data Science?"
   ]
  },
  {
   "cell_type": "code",
   "execution_count": null,
   "metadata": {
    "ExecuteTime": {
     "end_time": "2018-12-31T23:49:31.791350Z",
     "start_time": "2018-12-31T23:49:31.669836Z"
    }
   },
   "outputs": [],
   "source": [
    "tds_clean = tds[tds['word_count'] < 5000].copy()\n",
    "lin_reg = sm.OLS(tds_clean['views'], tds_clean['word_count']).fit()\n",
    "lin_reg.summary()"
   ]
  },
  {
   "cell_type": "markdown",
   "metadata": {},
   "source": [
    "Now we see that for every extra word, I get 14 more views! However, it looks like I want to keep my articles under 5000 words (about a 25 minute reading time). "
   ]
  },
  {
   "cell_type": "markdown",
   "metadata": {},
   "source": [
    "## Read Ratio Regressed by Reading Time\n",
    "\n",
    "If we want to fit a model with an intercept, we can use `scipy.stats.linregress`"
   ]
  },
  {
   "cell_type": "code",
   "execution_count": null,
   "metadata": {
    "ExecuteTime": {
     "end_time": "2018-12-31T23:49:34.319248Z",
     "start_time": "2018-12-31T23:49:34.127296Z"
    }
   },
   "outputs": [],
   "source": [
    "figure = make_scatter_plot(tds_clean, 'read_time', 'read_ratio')\n",
    "iplot(figure)"
   ]
  },
  {
   "cell_type": "code",
   "execution_count": null,
   "metadata": {
    "ExecuteTime": {
     "end_time": "2018-12-31T23:49:34.411017Z",
     "start_time": "2018-12-31T23:49:34.322733Z"
    }
   },
   "outputs": [],
   "source": [
    "from scipy import stats\n",
    "stats.linregress(tds_clean['read_time'], tds_clean['read_ratio'])"
   ]
  },
  {
   "cell_type": "markdown",
   "metadata": {},
   "source": [
    "This time, we see that for every additional minute of reading time, the percentage of people who read the article declines by 2.3%. For an article with a 0 minute reading time, 53% of people will read it! "
   ]
  },
  {
   "cell_type": "markdown",
   "metadata": {},
   "source": [
    "Let's take a look at a few different fits."
   ]
  },
  {
   "cell_type": "code",
   "execution_count": null,
   "metadata": {
    "ExecuteTime": {
     "end_time": "2018-12-31T23:49:36.879822Z",
     "start_time": "2018-12-31T23:49:36.700938Z"
    }
   },
   "outputs": [],
   "source": [
    "from visuals import make_linear_regression\n",
    "\n",
    "figure, summary = make_linear_regression(tds_clean, x='word_count', y='views', intercept_0=True)\n",
    "iplot(figure)"
   ]
  },
  {
   "cell_type": "code",
   "execution_count": null,
   "metadata": {
    "ExecuteTime": {
     "end_time": "2018-12-31T23:49:36.959915Z",
     "start_time": "2018-12-31T23:49:36.882172Z"
    }
   },
   "outputs": [],
   "source": [
    "summary"
   ]
  },
  {
   "cell_type": "code",
   "execution_count": null,
   "metadata": {
    "ExecuteTime": {
     "end_time": "2018-12-31T23:49:37.127861Z",
     "start_time": "2018-12-31T23:49:36.962439Z"
    }
   },
   "outputs": [],
   "source": [
    "tds_clean['read_pct'] = list(tds_clean['read_ratio'])\n",
    "figure, summary = make_linear_regression(tds_clean, x='read_time', y='read_pct', intercept_0=False)\n",
    "iplot(figure)"
   ]
  },
  {
   "cell_type": "code",
   "execution_count": null,
   "metadata": {
    "ExecuteTime": {
     "end_time": "2018-12-31T23:49:37.203925Z",
     "start_time": "2018-12-31T23:49:37.130469Z"
    }
   },
   "outputs": [],
   "source": [
    "summary"
   ]
  },
  {
   "cell_type": "code",
   "execution_count": null,
   "metadata": {
    "ExecuteTime": {
     "end_time": "2018-12-31T23:49:37.374311Z",
     "start_time": "2018-12-31T23:49:37.205751Z"
    }
   },
   "outputs": [],
   "source": [
    "figure, summary = make_linear_regression(tds_clean, x='title_word_count', y='fans', intercept_0=True)\n",
    "iplot(figure)"
   ]
  },
  {
   "cell_type": "code",
   "execution_count": null,
   "metadata": {
    "ExecuteTime": {
     "end_time": "2018-12-31T23:49:37.453325Z",
     "start_time": "2018-12-31T23:49:37.376182Z"
    }
   },
   "outputs": [],
   "source": [
    "summary"
   ]
  },
  {
   "cell_type": "markdown",
   "metadata": {},
   "source": [
    "This clearly is not the best fit! "
   ]
  },
  {
   "cell_type": "markdown",
   "metadata": {},
   "source": [
    "# Univariate Polynomial Regressions\n",
    "\n",
    "Next, we'll let the degree of the fit increase above 1. Overfitting (especially with limited data) is definitely going to be the outcome, but we'll let this serve as a lesson about having too many parameters in your model! "
   ]
  },
  {
   "cell_type": "code",
   "execution_count": null,
   "metadata": {
    "ExecuteTime": {
     "end_time": "2018-12-31T23:49:38.999175Z",
     "start_time": "2018-12-31T23:49:38.930947Z"
    }
   },
   "outputs": [],
   "source": [
    "from visuals import make_poly_fits"
   ]
  },
  {
   "cell_type": "code",
   "execution_count": null,
   "metadata": {
    "ExecuteTime": {
     "end_time": "2018-12-31T23:49:39.323592Z",
     "start_time": "2018-12-31T23:49:39.001543Z"
    }
   },
   "outputs": [],
   "source": [
    "figure, fit_stats = make_poly_fits(tds_clean, x='word_count', y='reads', degree=6)\n",
    "fit_stats"
   ]
  },
  {
   "cell_type": "code",
   "execution_count": null,
   "metadata": {
    "ExecuteTime": {
     "end_time": "2018-12-31T23:49:39.419566Z",
     "start_time": "2018-12-31T23:49:39.326728Z"
    }
   },
   "outputs": [],
   "source": [
    "iplot(figure)"
   ]
  },
  {
   "cell_type": "code",
   "execution_count": null,
   "metadata": {
    "ExecuteTime": {
     "end_time": "2018-12-31T23:49:39.794597Z",
     "start_time": "2018-12-31T23:49:39.422796Z"
    }
   },
   "outputs": [],
   "source": [
    "tds_clean['log_views'] = np.log10(tds_clean['views'])\n",
    "figure, fig_stats = make_poly_fits(tds_clean, x='word_count', y='log_views', degree=15)\n",
    "fit_stats"
   ]
  },
  {
   "cell_type": "code",
   "execution_count": null,
   "metadata": {
    "ExecuteTime": {
     "end_time": "2018-12-31T23:49:39.941061Z",
     "start_time": "2018-12-31T23:49:39.797369Z"
    }
   },
   "outputs": [],
   "source": [
    "iplot(figure)"
   ]
  },
  {
   "cell_type": "code",
   "execution_count": null,
   "metadata": {
    "ExecuteTime": {
     "end_time": "2018-12-31T23:49:40.291798Z",
     "start_time": "2018-12-31T23:49:39.943751Z"
    }
   },
   "outputs": [],
   "source": [
    "figure, fig_stats = make_poly_fits(tds_clean, x='title_word_count', y='fans', degree=10)\n",
    "iplot(figure)"
   ]
  },
  {
   "cell_type": "markdown",
   "metadata": {},
   "source": [
    "# Multivariate Regressions\n",
    "\n",
    "Next, we'll consider more independent variables in our model. For this, we need to break out the exceptional Scikit-Learn library. We'll use `liner_model.LinearRegression` which supports multiple independent variables."
   ]
  },
  {
   "cell_type": "code",
   "execution_count": null,
   "metadata": {
    "ExecuteTime": {
     "end_time": "2018-12-31T23:49:40.414757Z",
     "start_time": "2018-12-31T23:49:40.295466Z"
    }
   },
   "outputs": [],
   "source": [
    "from sklearn.linear_model import LinearRegression\n",
    "from sklearn.metrics import mean_squared_error\n",
    "\n",
    "x = ['read_time', 'editing_days', 'title_word_count']\n",
    "x.extend(c for c in df.columns if '<tag>' in c)\n",
    "x"
   ]
  },
  {
   "cell_type": "code",
   "execution_count": null,
   "metadata": {
    "ExecuteTime": {
     "end_time": "2018-12-31T23:49:40.538349Z",
     "start_time": "2018-12-31T23:49:40.418531Z"
    }
   },
   "outputs": [],
   "source": [
    "lin_model = LinearRegression()\n",
    "lin_model.fit(tds[x],  tds['reads'])"
   ]
  },
  {
   "cell_type": "code",
   "execution_count": null,
   "metadata": {
    "ExecuteTime": {
     "end_time": "2018-12-31T23:50:23.780914Z",
     "start_time": "2018-12-31T23:50:23.708706Z"
    }
   },
   "outputs": [],
   "source": [
    "lin_model = LinearRegression()\n",
    "lin_model.fit(tds[x],  tds['reads'])\n",
    "\n",
    "slopes, intercept, = lin_model.coef_, lin_model.intercept_\n",
    "fit = lin_model.predict(tds[x])\n",
    "r2 = lin_model.score(tds[x], tds['reads'])\n",
    "rmse = np.sqrt(mean_squared_error(y_true=tds['reads'], y_pred=fit))"
   ]
  },
  {
   "cell_type": "code",
   "execution_count": null,
   "metadata": {
    "ExecuteTime": {
     "end_time": "2018-12-31T23:49:40.628306Z",
     "start_time": "2018-12-31T23:49:40.542217Z"
    }
   },
   "outputs": [],
   "source": [
    "for p, s in zip(x, slopes):\n",
    "    print(f'Independent Variable: {p.replace(\"_\", \" \").title():25} Slope: {s:.2f}')\n",
    "\n",
    "print(f'Intercept: {intercept:.2f}')\n",
    "print(f'\\nCoefficient of Determination: {r2:.2f}')\n",
    "print(f'RMSE: {rmse:.2f}')"
   ]
  },
  {
   "cell_type": "markdown",
   "metadata": {},
   "source": [
    "We can see that some variables contribute positively to the number of reads, while others decrease the number of reads! Evidently, I should decrease the reading time, not use the tag education, and use the tags Towards Data Science and Python."
   ]
  },
  {
   "cell_type": "code",
   "execution_count": null,
   "metadata": {
    "ExecuteTime": {
     "end_time": "2018-12-31T23:49:41.082381Z",
     "start_time": "2018-12-31T23:49:40.913586Z"
    }
   },
   "outputs": [],
   "source": [
    "figure, summary = make_linear_regression(tds, x=x, y='reads', intercept_0=False)\n",
    "iplot(figure)"
   ]
  },
  {
   "cell_type": "code",
   "execution_count": null,
   "metadata": {
    "ExecuteTime": {
     "end_time": "2018-12-31T23:49:41.157840Z",
     "start_time": "2018-12-31T23:49:41.084389Z"
    }
   },
   "outputs": [],
   "source": [
    "summary"
   ]
  },
  {
   "cell_type": "code",
   "execution_count": null,
   "metadata": {
    "ExecuteTime": {
     "end_time": "2018-12-31T23:49:41.413578Z",
     "start_time": "2018-12-31T23:49:41.160143Z"
    }
   },
   "outputs": [],
   "source": [
    "figure, summary = make_linear_regression(tds, x=x, y='fans', intercept_0=False)\n",
    "iplot(figure)"
   ]
  },
  {
   "cell_type": "code",
   "execution_count": null,
   "metadata": {
    "ExecuteTime": {
     "end_time": "2018-12-31T23:49:41.490370Z",
     "start_time": "2018-12-31T23:49:41.415703Z"
    }
   },
   "outputs": [],
   "source": [
    "summary"
   ]
  },
  {
   "cell_type": "markdown",
   "metadata": {},
   "source": [
    "# Extrapolations\n",
    "\n",
    "The most fun part of this is extrapolating wildly into the future! Using the past stats, we can make estimates for the future using the numbers of days since publishing."
   ]
  },
  {
   "cell_type": "code",
   "execution_count": null,
   "metadata": {
    "ExecuteTime": {
     "end_time": "2018-12-31T23:49:41.945727Z",
     "start_time": "2018-12-31T23:49:41.873627Z"
    }
   },
   "outputs": [],
   "source": [
    "from visuals import make_extrapolation"
   ]
  },
  {
   "cell_type": "code",
   "execution_count": null,
   "metadata": {
    "ExecuteTime": {
     "end_time": "2018-12-31T23:49:42.473621Z",
     "start_time": "2018-12-31T23:49:41.948409Z"
    }
   },
   "outputs": [],
   "source": [
    "figure, future_df = make_extrapolation(tds, y='reads', years=1.5, degree=3)\n",
    "iplot(figure)"
   ]
  },
  {
   "cell_type": "code",
   "execution_count": null,
   "metadata": {
    "ExecuteTime": {
     "end_time": "2018-12-31T23:49:42.976214Z",
     "start_time": "2018-12-31T23:49:42.477225Z"
    }
   },
   "outputs": [],
   "source": [
    "figure, future_df = make_extrapolation(df, y='word_count', years=2.5, degree=3)\n",
    "iplot(figure)"
   ]
  },
  {
   "cell_type": "code",
   "execution_count": null,
   "metadata": {
    "ExecuteTime": {
     "end_time": "2018-12-31T23:49:43.478745Z",
     "start_time": "2018-12-31T23:49:42.978230Z"
    }
   },
   "outputs": [],
   "source": [
    "figure, future_df = make_extrapolation(df, 'read_time', years=1, degree=3)\n",
    "iplot(figure)"
   ]
  },
  {
   "cell_type": "markdown",
   "metadata": {},
   "source": [
    "# Conclusions\n",
    "\n",
    "Well, that's about all I have! There is a lot of additional analysis that could be done here, and going forward, I'll be further developing these functions and trying to extract more information. Feel free to use these functions on your own articles, and of course, contribute as needed! Developing this library has been enjoyable, and I look forward to expanding it so any suggestions are welcome and appreciated."
   ]
  },
  {
   "cell_type": "code",
   "execution_count": null,
   "metadata": {},
   "outputs": [],
   "source": []
  }
 ],
 "metadata": {
  "hide_input": false,
  "kernelspec": {
   "display_name": "Python 3",
   "language": "python",
   "name": "python3"
  },
  "language_info": {
   "codemirror_mode": {
    "name": "ipython",
    "version": 3
   },
   "file_extension": ".py",
   "mimetype": "text/x-python",
   "name": "python",
   "nbconvert_exporter": "python",
   "pygments_lexer": "ipython3",
   "version": "3.7.0"
  },
  "toc": {
   "base_numbering": 1,
   "nav_menu": {},
   "number_sections": true,
   "sideBar": true,
   "skip_h1_title": false,
   "title_cell": "Table of Contents",
   "title_sidebar": "Contents",
   "toc_cell": true,
   "toc_position": {
    "height": "calc(100% - 180px)",
    "left": "10px",
    "top": "150px",
    "width": "384px"
   },
   "toc_section_display": true,
   "toc_window_display": true
  },
  "varInspector": {
   "cols": {
    "lenName": 16,
    "lenType": 16,
    "lenVar": 40
   },
   "kernels_config": {
    "python": {
     "delete_cmd_postfix": "",
     "delete_cmd_prefix": "del ",
     "library": "var_list.py",
     "varRefreshCmd": "print(var_dic_list())"
    },
    "r": {
     "delete_cmd_postfix": ") ",
     "delete_cmd_prefix": "rm(",
     "library": "var_list.r",
     "varRefreshCmd": "cat(var_dic_list()) "
    }
   },
   "types_to_exclude": [
    "module",
    "function",
    "builtin_function_or_method",
    "instance",
    "_Feature"
   ],
   "window_display": false
  }
 },
 "nbformat": 4,
 "nbformat_minor": 2
}
