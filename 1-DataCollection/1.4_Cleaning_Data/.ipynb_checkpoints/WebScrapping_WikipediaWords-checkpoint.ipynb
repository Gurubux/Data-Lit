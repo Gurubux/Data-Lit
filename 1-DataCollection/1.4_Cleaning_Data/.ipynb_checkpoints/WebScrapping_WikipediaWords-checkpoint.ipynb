{
 "cells": [
  {
   "cell_type": "code",
   "execution_count": 1,
   "metadata": {},
   "outputs": [],
   "source": [
    "#import dependencies\n",
    "from bs4 import BeautifulSoup\n",
    "import requests\n",
    "import re\n",
    "import operator\n",
    "import json\n",
    "\n",
    "from tabulate import tabulate\n",
    "import sys\n",
    "from stop_words import get_stop_words"
   ]
  },
  {
   "cell_type": "code",
   "execution_count": 2,
   "metadata": {},
   "outputs": [],
   "source": [
    "#get data from Wikipedia\n",
    "wikipedia_api_link = \"https://en.wikipedia.org/w/api.php?format=json&action=query&list=search&srsearch=\"\n",
    "wikipedia_link = \"https://en.wikipedia.org/wiki/\"\n",
    "\n",
    "if(len(sys.argv) < 2):\n",
    "    print('Enter valid string')\n",
    "    exit()    "
   ]
  },
  {
   "cell_type": "code",
   "execution_count": 3,
   "metadata": {},
   "outputs": [],
   "source": [
    "#get the search word\n",
    "string_query = sys.argv[1]\n",
    "#python main.py batman yes/no\n",
    "if(len(sys.argv) >2):\n",
    "    search_mode=True\n",
    "else:\n",
    "    search_mode=False"
   ]
  },
  {
   "cell_type": "code",
   "execution_count": 7,
   "metadata": {},
   "outputs": [
    {
     "name": "stdout",
     "output_type": "stream",
     "text": [
      "https://en.wikipedia.org/w/api.php?format=json&action=query&list=search&srsearch=-f\n"
     ]
    }
   ],
   "source": [
    "#create our URL\n",
    "url = wikipedia_api_link+string_query\n",
    "print(url)"
   ]
  },
  {
   "cell_type": "code",
   "execution_count": 8,
   "metadata": {},
   "outputs": [
    {
     "name": "stdout",
     "output_type": "stream",
     "text": [
      "{'batchcomplete': '', 'continue': {'sroffset': 10, 'continue': '-||'}, 'query': {'searchinfo': {'totalhits': 4943780}, 'search': [{'ns': 0, 'title': 'Rapping', 'pageid': 25421, 'size': 69124, 'wordcount': 8922, 'snippet': 'Rapping (or rhyming, spitting, emceeing, MCing) is a musical form of vocal delivery that incorporates &quot;rhyme, rhythmic speech, and street vernacular&quot;,', 'timestamp': '2019-03-07T06:14:30Z'}, {'ns': 0, 'title': 'French and Indian War', 'pageid': 39062, 'size': 72246, 'wordcount': 8474, 'snippet': 'The French and Indian War (1754–1763) pitted the colonies of British America against those of New France, each side supported by military units from the', 'timestamp': '2019-03-09T01:20:13Z'}, {'ns': 0, 'title': 'Drug', 'pageid': 9311172, 'size': 28726, 'wordcount': 2809, 'snippet': 'A drug is any substance (other than food that provides nutritional support) that, when inhaled, injected, smoked, consumed, absorbed via a patch on the', 'timestamp': '2019-03-15T07:31:52Z'}, {'ns': 0, 'title': 'Baltic states', 'pageid': 188675, 'size': 69881, 'wordcount': 6596, 'snippet': 'The Baltic states, also known as the Baltic countries, Baltic republics, Baltic nations or simply the Baltics (Estonian: Balti riigid, Baltimaad, Latvian:', 'timestamp': '2019-03-31T12:10:00Z'}, {'ns': 0, 'title': 'Internet forum', 'pageid': 294813, 'size': 47395, 'wordcount': 6364, 'snippet': 'An Internet forum, or message board, is an online discussion site where people can hold conversations in the form of posted messages. They differ from', 'timestamp': '2019-02-14T09:30:40Z'}, {'ns': 0, 'title': 'Server (computing)', 'pageid': 42116, 'size': 21119, 'wordcount': 1871, 'snippet': 'In computing, a server is a computer program or a device that provides functionality for other programs or devices, called &quot;clients&quot;. This architecture', 'timestamp': '2019-03-20T07:26:18Z'}, {'ns': 0, 'title': 'De jure', 'pageid': 9160, 'size': 4038, 'wordcount': 454, 'snippet': \"In law and government, de jure (/deɪ ˈdʒʊəri, di-/; Latin: de iure, lit.\\xa0'in law' Latin pronunciation:\\xa0[deː juːre]) describes practices that are legally\", 'timestamp': '2019-03-26T22:24:01Z'}, {'ns': 0, 'title': 'Siege of Yorktown', 'pageid': 157770, 'size': 54035, 'wordcount': 6249, 'snippet': 'The Siege of Yorktown, also known as the Battle of Yorktown, the Surrender at Yorktown, German Battle or the Siege of Little York, ending on October 19', 'timestamp': '2019-03-14T21:39:27Z'}, {'ns': 0, 'title': '720p', 'pageid': 1176591, 'size': 6018, 'wordcount': 645, 'snippet': '720p (1280×720 px; also called HD Ready or standard HD) is a progressive HDTV signal format with 720 horizontal lines and an aspect ratio (AR) of 16:9', 'timestamp': '2019-03-31T17:01:39Z'}, {'ns': 0, 'title': 'European Space Agency', 'pageid': 10363, 'size': 89691, 'wordcount': 8089, 'snippet': 'The European Space Agency (ESA; French: Agence spatiale européenne, ASE; German: Europäische Weltraumorganisation) is an intergovernmental organisation', 'timestamp': '2019-03-21T21:40:56Z'}]}}\n",
      "Rapping\n",
      "https://en.wikipedia.org/w/api.php?format=json&action=query&list=search&srsearch=Rapping\n"
     ]
    }
   ],
   "source": [
    "#parse data\n",
    "try:\n",
    "    #use requests to retrieve raw data from wiki API URL we\n",
    "    #just constructed\n",
    "    response = requests.get(url)\n",
    "\n",
    "    #format that data as a JSON dictionary\n",
    "    data = json.loads(response.content.decode(\"utf-8\"))\n",
    "\n",
    "    #page title, first option\n",
    "    #show this in web browser\n",
    "    wikipedia_page_tag = data['query']['search'][0]['title']\n",
    "\n",
    "    #get actual wiki page based on retrieved title\n",
    "    url = wikipedia_link + wikipedia_page_tag\n",
    "    #get list of words from that page\n",
    "    page_word_list = getWordList(url)\n",
    "    #create table of word counts, dictionary\n",
    "    page_word_count = createFrquencyTable(page_word_list)\n",
    "    #sort the table by the frequency count\n",
    "    sorted_word_frequency_list = sorted(page_word_count.items(), key=operator.itemgetter(1), reverse=True)\n",
    "    #remove stop words if the user specified\n",
    "    if(search_mode):\n",
    "        sorted_word_frequency_list = remove_stop_words(sorted_word_frequency_list)\n",
    "\n",
    "    #sum the total words to calculate frequencies   \n",
    "    total_words_sum = 0\n",
    "    for key,value in sorted_word_frequency_list:\n",
    "        total_words_sum = total_words_sum + value\n",
    "\n",
    "    #just get the top 20 words\n",
    "    if len(sorted_word_frequency_list) > 20:\n",
    "        sorted_word_frequency_list = sorted_word_frequency_list[:20]\n",
    "\n",
    "    #create our final list which contains words, frequency (word count), percentage\n",
    "    final_list = []\n",
    "    for key,value in sorted_word_frequency_list:\n",
    "        percentage_value = float(value * 100) / total_words_sum\n",
    "        final_list.append([key, value, round(percentage_value, 4)])\n",
    "\n",
    "    #headers before the table\n",
    "    print_headers = ['Word', 'Frequency', 'Frequency Percentage']\n",
    "\n",
    "    #print the table with tabulate\n",
    "    print(tabulate(final_list, headers=print_headers, tablefmt='orgtbl'))\n",
    "\n",
    "#throw an exception in case it breaks\n",
    "except requests.exceptions.Timeout:\n",
    "    print(\"The server didn't respond. Please, try again later.\")\n",
    "except:\n",
    "    lets_go_to_sleep()\n",
    "\"\"\"\n",
    "#access wiki API. json format. query it for data. search tyep. shows list of possibilities\n",
    "wikipedia_api_link = \"https://en.wikipedia.org/w/api.php?format=json&action=query&list=search&srsearch=\"\n",
    "wikipedia_link = \"https://en.wikipedia.org/wiki/\"\n",
    "url = wikipedia_api_link + string_query\n",
    "\n",
    "\n",
    "#try-except block. simple way to deal with exceptions \n",
    "#great for HTTP requests\n",
    "try:\n",
    "    #use requests to retrieve raw data from wiki API URL we\n",
    "    #just constructed\n",
    "    response = requests.get(url)\n",
    "\n",
    "    #format that data as a JSON dictionary\n",
    "    data = json.loads(response.content.decode(\"utf-8\"))\n",
    "\n",
    "    #page title, first option\n",
    "    #show this in web browser\n",
    "    wikipedia_page_tag = data['query']['search'][0]['title']\n",
    "\n",
    "    #get actual wiki page based on retrieved title\n",
    "    url = wikipedia_link + wikipedia_page_tag\n",
    "    #get list of words from that page\n",
    "    page_word_list = getWordList(url)\n",
    "    #create table of word counts, dictionary\n",
    "    page_word_count = createFrquencyTable(page_word_list)\n",
    "    #sort the table by the frequency count\n",
    "    sorted_word_frequency_list = sorted(page_word_count.items(), key=operator.itemgetter(1), reverse=True)\n",
    "    #remove stop words if the user specified\n",
    "    if(search_mode):\n",
    "        sorted_word_frequency_list = remove_stop_words(sorted_word_frequency_list)\n",
    "\n",
    "    #sum the total words to calculate frequencies   \n",
    "    total_words_sum = 0\n",
    "    for key,value in sorted_word_frequency_list:\n",
    "        total_words_sum = total_words_sum + value\n",
    "\n",
    "    #just get the top 20 words\n",
    "    if len(sorted_word_frequency_list) > 20:\n",
    "        sorted_word_frequency_list = sorted_word_frequency_list[:20]\n",
    "\n",
    "    #create our final list which contains words, frequency (word count), percentage\n",
    "    final_list = []\n",
    "    for key,value in sorted_word_frequency_list:\n",
    "        percentage_value = float(value * 100) / total_words_sum\n",
    "        final_list.append([key, value, round(percentage_value, 4)])\n",
    "\n",
    "    #headers before the table\n",
    "    print_headers = ['Word', 'Frequency', 'Frequency Percentage']\n",
    "\n",
    "    #print the table with tabulate\n",
    "    print(tabulate(final_list, headers=print_headers, tablefmt='orgtbl'))\n",
    "\n",
    "#throw an exception in case it breaks\n",
    "except requests.exceptions.Timeout:\n",
    "    print(\"The server didn't respond. Please, try again later.\")\n",
    "\"\"\""
   ]
  },
  {
   "cell_type": "code",
   "execution_count": null,
   "metadata": {},
   "outputs": [],
   "source": [
    "#sort the data"
   ]
  },
  {
   "cell_type": "code",
   "execution_count": null,
   "metadata": {},
   "outputs": [],
   "source": [
    "#print the data"
   ]
  }
 ],
 "metadata": {
  "kernelspec": {
   "display_name": "Python 3",
   "language": "python",
   "name": "python3"
  },
  "language_info": {
   "codemirror_mode": {
    "name": "ipython",
    "version": 3
   },
   "file_extension": ".py",
   "mimetype": "text/x-python",
   "name": "python",
   "nbconvert_exporter": "python",
   "pygments_lexer": "ipython3",
   "version": "3.7.0"
  }
 },
 "nbformat": 4,
 "nbformat_minor": 2
}
