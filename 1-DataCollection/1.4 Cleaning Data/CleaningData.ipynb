{
 "cells": [
  {
   "cell_type": "code",
   "execution_count": 1,
   "metadata": {},
   "outputs": [],
   "source": [
    "filename = 'E:/Study/ML/Data-Lit/1-DataCollection/1.4 Cleaning Data\\metamorphosis_clean.txt'\n",
    "#with open(\"filename.txt\") as file:\n",
    "file = open(filename, 'rt')\n",
    "text = file.read()\n",
    "file.close()"
   ]
  },
  {
   "cell_type": "code",
   "execution_count": 2,
   "metadata": {
    "scrolled": true
   },
   "outputs": [
    {
     "name": "stdout",
     "output_type": "stream",
     "text": [
      "['ï»¿One', 'morning,', 'when', 'Gregor', 'Samsa', 'woke', 'from', 'troubled', 'dreams,', 'he', 'found', 'himself', 'transformed', 'in', 'his', 'bed', 'into', 'a', 'horrible', 'vermin.', 'He', 'lay', 'on', 'his', 'armour-like', 'back,', 'and', 'if', 'he', 'lifted', 'his', 'head', 'a', 'little', 'he', 'could', 'see', 'his', 'brown', 'belly,', 'slightly', 'domed', 'and', 'divided', 'by', 'arches', 'into', 'stiff', 'sections.', 'The', 'bedding', 'was', 'hardly', 'able', 'to', 'cover', 'it', 'and', 'seemed', 'ready', 'to', 'slide', 'off', 'any', 'moment.', 'His', 'many', 'legs,', 'pitifully', 'thin', 'compared', 'with', 'the', 'size', 'of', 'the', 'rest', 'of', 'him,', 'waved', 'about', 'helplessly', 'as', 'he', 'looked.', '\"What\\'s', 'happened', 'to', 'me?\"', 'he', 'thought.', 'It', \"wasn't\", 'a', 'dream.', 'His', 'room,', 'a', 'proper', 'human']\n"
     ]
    }
   ],
   "source": [
    "# split into words by white space\n",
    "words = text.split()\n",
    "print(words[:100])"
   ]
  },
  {
   "cell_type": "code",
   "execution_count": 3,
   "metadata": {},
   "outputs": [
    {
     "name": "stdout",
     "output_type": "stream",
     "text": [
      "['ï', 'One', 'morning', 'when', 'Gregor', 'Samsa', 'woke', 'from', 'troubled', 'dreams', 'he', 'found', 'himself', 'transformed', 'in', 'his', 'bed', 'into', 'a', 'horrible', 'vermin', 'He', 'lay', 'on', 'his', 'armour', 'like', 'back', 'and', 'if', 'he', 'lifted', 'his', 'head', 'a', 'little', 'he', 'could', 'see', 'his', 'brown', 'belly', 'slightly', 'domed', 'and', 'divided', 'by', 'arches', 'into', 'stiff', 'sections', 'The', 'bedding', 'was', 'hardly', 'able', 'to', 'cover', 'it', 'and', 'seemed', 'ready', 'to', 'slide', 'off', 'any', 'moment', 'His', 'many', 'legs', 'pitifully', 'thin', 'compared', 'with', 'the', 'size', 'of', 'the', 'rest', 'of', 'him', 'waved', 'about', 'helplessly', 'as', 'he', 'looked', 'What', 's', 'happened', 'to', 'me', 'he', 'thought', 'It', 'wasn', 't', 'a', 'dream', 'His']\n"
     ]
    }
   ],
   "source": [
    "# split based on words only\n",
    "import re\n",
    "words = re.split(r'\\W+', text)\n",
    "print(words[:100])"
   ]
  },
  {
   "cell_type": "code",
   "execution_count": 4,
   "metadata": {},
   "outputs": [
    {
     "name": "stdout",
     "output_type": "stream",
     "text": [
      "['ï»¿One', 'morning,', 'when', 'Gregor', 'Samsa', 'woke', 'from', 'troubled', 'dreams,', 'he', 'found', 'himself', 'transformed', 'in', 'his', 'bed', 'into', 'a', 'horrible', 'vermin.', 'He', 'lay', 'on', 'his', 'armour-like', 'back,', 'and', 'if', 'he', 'lifted', 'his', 'head', 'a', 'little', 'he', 'could', 'see', 'his', 'brown', 'belly,', 'slightly', 'domed', 'and', 'divided', 'by', 'arches', 'into', 'stiff', 'sections.', 'The', 'bedding', 'was', 'hardly', 'able', 'to', 'cover', 'it', 'and', 'seemed', 'ready', 'to', 'slide', 'off', 'any', 'moment.', 'His', 'many', 'legs,', 'pitifully', 'thin', 'compared', 'with', 'the', 'size', 'of', 'the', 'rest', 'of', 'him,', 'waved', 'about', 'helplessly', 'as', 'he', 'looked.', '\"What\\'s', 'happened', 'to', 'me?\"', 'he', 'thought.', 'It', \"wasn't\", 'a', 'dream.', 'His', 'room,', 'a', 'proper', 'human']\n",
      "{33: None, 34: None, 35: None, 36: None, 37: None, 38: None, 39: None, 40: None, 41: None, 42: None, 43: None, 44: None, 45: None, 46: None, 47: None, 58: None, 59: None, 60: None, 61: None, 62: None, 63: None, 64: None, 91: None, 92: None, 93: None, 94: None, 95: None, 96: None, 123: None, 124: None, 125: None, 126: None}\n",
      "['ï»¿One', 'morning', 'when', 'Gregor', 'Samsa', 'woke', 'from', 'troubled', 'dreams', 'he', 'found', 'himself', 'transformed', 'in', 'his', 'bed', 'into', 'a', 'horrible', 'vermin', 'He', 'lay', 'on', 'his', 'armourlike', 'back', 'and', 'if', 'he', 'lifted', 'his', 'head', 'a', 'little', 'he', 'could', 'see', 'his', 'brown', 'belly', 'slightly', 'domed', 'and', 'divided', 'by', 'arches', 'into', 'stiff', 'sections', 'The', 'bedding', 'was', 'hardly', 'able', 'to', 'cover', 'it', 'and', 'seemed', 'ready', 'to', 'slide', 'off', 'any', 'moment', 'His', 'many', 'legs', 'pitifully', 'thin', 'compared', 'with', 'the', 'size', 'of', 'the', 'rest', 'of', 'him', 'waved', 'about', 'helplessly', 'as', 'he', 'looked', 'Whats', 'happened', 'to', 'me', 'he', 'thought', 'It', 'wasnt', 'a', 'dream', 'His', 'room', 'a', 'proper', 'human']\n"
     ]
    }
   ],
   "source": [
    "# split into words by white space\n",
    "words = text.split()\n",
    "print(words[:100])\n",
    "# remove punctuation from each word\n",
    "import string\n",
    "table = str.maketrans('', '', string.punctuation)\n",
    "print(table)\n",
    "stripped = [w.translate(table) for w in words]\n",
    "print(stripped[:100])"
   ]
  },
  {
   "cell_type": "code",
   "execution_count": 5,
   "metadata": {},
   "outputs": [
    {
     "name": "stdout",
     "output_type": "stream",
     "text": [
      "['ï»¿one', 'morning,', 'when', 'gregor', 'samsa', 'woke', 'from', 'troubled', 'dreams,', 'he', 'found', 'himself', 'transformed', 'in', 'his', 'bed', 'into', 'a', 'horrible', 'vermin.', 'he', 'lay', 'on', 'his', 'armour-like', 'back,', 'and', 'if', 'he', 'lifted', 'his', 'head', 'a', 'little', 'he', 'could', 'see', 'his', 'brown', 'belly,', 'slightly', 'domed', 'and', 'divided', 'by', 'arches', 'into', 'stiff', 'sections.', 'the', 'bedding', 'was', 'hardly', 'able', 'to', 'cover', 'it', 'and', 'seemed', 'ready', 'to', 'slide', 'off', 'any', 'moment.', 'his', 'many', 'legs,', 'pitifully', 'thin', 'compared', 'with', 'the', 'size', 'of', 'the', 'rest', 'of', 'him,', 'waved', 'about', 'helplessly', 'as', 'he', 'looked.', '\"what\\'s', 'happened', 'to', 'me?\"', 'he', 'thought.', 'it', \"wasn't\", 'a', 'dream.', 'his', 'room,', 'a', 'proper', 'human']\n"
     ]
    }
   ],
   "source": [
    "# convert to lower case\n",
    "words = [word.lower() for word in words]\n",
    "print(words[:100])"
   ]
  },
  {
   "cell_type": "code",
   "execution_count": 6,
   "metadata": {},
   "outputs": [
    {
     "name": "stdout",
     "output_type": "stream",
     "text": [
      "['ï', '»', '¿One', 'morning', ',', 'when', 'Gregor', 'Samsa', 'woke', 'from', 'troubled', 'dreams', ',', 'he', 'found', 'himself', 'transformed', 'in', 'his', 'bed', 'into', 'a', 'horrible', 'vermin', '.', 'He', 'lay', 'on', 'his', 'armour-like', 'back', ',', 'and', 'if', 'he', 'lifted', 'his', 'head', 'a', 'little', 'he', 'could', 'see', 'his', 'brown', 'belly', ',', 'slightly', 'domed', 'and', 'divided', 'by', 'arches', 'into', 'stiff', 'sections', '.', 'The', 'bedding', 'was', 'hardly', 'able', 'to', 'cover', 'it', 'and', 'seemed', 'ready', 'to', 'slide', 'off', 'any', 'moment', '.', 'His', 'many', 'legs', ',', 'pitifully', 'thin', 'compared', 'with', 'the', 'size', 'of', 'the', 'rest', 'of', 'him', ',', 'waved', 'about', 'helplessly', 'as', 'he', 'looked', '.', '``', 'What', \"'s\"]\n"
     ]
    }
   ],
   "source": [
    "# split into words nltk\n",
    "from nltk.tokenize import word_tokenize\n",
    "tokens = word_tokenize(text)\n",
    "print(tokens[:100])"
   ]
  },
  {
   "cell_type": "code",
   "execution_count": 7,
   "metadata": {},
   "outputs": [
    {
     "name": "stdout",
     "output_type": "stream",
     "text": [
      "['ï»¿One morning, when Gregor Samsa woke from troubled dreams, he found\\nhimself transformed in his bed into a horrible vermin.', 'He lay on\\nhis armour-like back, and if he lifted his head a little he could\\nsee his brown belly, slightly domed and divided by arches into stiff\\nsections.', 'The bedding was hardly able to cover it and seemed ready\\nto slide off any moment.', 'His many legs, pitifully thin compared\\nwith the size of the rest of him, waved about helplessly as he\\nlooked.', '\"What\\'s happened to me?\"', 'he thought.', \"It wasn't a dream.\", 'His room,\\na proper human room although a little too small, lay peacefully\\nbetween its four familiar walls.', 'A collection of textile samples\\nlay spread out on the table - Samsa was a travelling salesman - and\\nabove it there hung a picture that he had recently cut out of an\\nillustrated magazine and housed in a nice, gilded frame.', 'It showed\\na lady fitted out with a fur hat and fur boa who sat upright,\\nraising a heavy fur muff that covered the whole of her lower arm\\ntowards the viewer.', 'Gregor then turned to look out the window at the dull weather.', 'Drops of rain could be heard hitting the pane, which made him feel\\nquite sad.', '\"How about if I sleep a little bit longer and forget all\\nthis nonsense\", he thought, but that was something he was unable to\\ndo because he was used to sleeping on his right, and in his present\\nstate couldn\\'t get into that position.', 'However hard he threw\\nhimself onto his right, he always rolled back to where he was.', \"He\\nmust have tried it a hundred times, shut his eyes so that he\\nwouldn't have to look at the floundering legs, and only stopped when\\nhe began to feel a mild, dull pain there that he had never felt\\nbefore.\", '\"Oh, God\", he thought, \"what a strenuous career it is that I\\'ve\\nchosen!', 'Travelling day in and day out.', \"Doing business like this\\ntakes much more effort than doing your own business at home, and on\\ntop of that there's the curse of travelling, worries about making\\ntrain connections, bad and irregular food, contact with different\\npeople all the time so that you can never get to know anyone or\\nbecome friendly with them.\", 'It can all go to Hell!\"', \"He felt a\\nslight itch up on his belly; pushed himself slowly up on his back\\ntowards the headboard so that he could lift his head better; found\\nwhere the itch was, and saw that it was covered with lots of little\\nwhite spots which he didn't know what to make of; and when he tried\\nto feel the place with one of his legs he drew it quickly back\\nbecause as soon as he touched it he was overcome by a cold shudder.\", 'He slid back into his former position.', '\"Getting up early all the\\ntime\", he thought, \"it makes you stupid.', \"You've got to get enough\\nsleep.\", 'Other travelling salesmen live a life of luxury.', 'For\\ninstance, whenever I go back to the guest house during the morning\\nto copy out the contract, these gentlemen are always still sitting\\nthere eating their breakfasts.', \"I ought to just try that with my\\nboss; I'd get kicked out on the spot.\", 'But who knows, maybe that\\nwould be the best thing for me.', \"If I didn't have my parents to\\nthink about I'd have given in my notice a long time ago, I'd have\\ngone up to the boss and told him just what I think, tell him\\neverything I would, let him know just what I feel.\", \"He'd fall right\\noff his desk!\", \"And it's a funny sort of business to be sitting up\\nthere at your desk, talking down at your subordinates from up there,\\nespecially when you have to go right up close because the boss is\\nhard of hearing.\", \"Well, there's still some hope; once I've got the\\nmoney together to pay off my parents' debt to him - another five or\\nsix years I suppose - that's definitely what I'll do.\", \"That's when\\nI'll make the big change.\", 'First of all though, I\\'ve got to get up,\\nmy train leaves at five.\"', 'And he looked over at the alarm clock, ticking on the chest of\\ndrawers.', '\"God in Heaven!\"', 'he thought.', 'It was half past six and the\\nhands were quietly moving forwards, it was even later than half\\npast, more like quarter to seven.', 'Had the alarm clock not rung?', \"He\\ncould see from the bed that it had been set for four o'clock as it\\nshould have been; it certainly must have rung.\", 'Yes, but was it\\npossible to quietly sleep through that furniture-rattling noise?', 'True, he had not slept peacefully, but probably all the more deeply\\nbecause of that.', 'What should he do now?', 'The next train went at\\nseven; if he were to catch that he would have to rush like mad and\\nthe collection of samples was still not packed, and he did not at\\nall feel particularly fresh and lively.', \"And even if he did catch\\nthe train he would not avoid his boss's anger as the office\\nassistant would have been there to see the five o'clock train go, he\\nwould have put in his report about Gregor's not being there a long\\ntime ago.\", \"The office assistant was the boss's man, spineless, and\\nwith no understanding.\", 'What about if he reported sick?', \"But that\\nwould be extremely strained and suspicious as in fifteen years of\\nservice Gregor had never once yet been ill.  His boss would\\ncertainly come round with the doctor from the medical insurance\\ncompany, accuse his parents of having a lazy son, and accept the\\ndoctor's recommendation not to make any claim as the doctor believed\\nthat no-one was ever ill but that many were workshy.\", \"And what's\\nmore, would he have been entirely wrong in this case?\", 'Gregor did in\\nfact, apart from excessive sleepiness after sleeping for so long,\\nfeel completely well and even felt much hungrier than usual.', 'He was still hurriedly thinking all this through, unable to decide\\nto get out of the bed, when the clock struck quarter to seven.', 'There was a cautious knock at the door near his head.', '\"Gregor\",\\nsomebody called - it was his mother - \"it\\'s quarter to seven.', 'Didn\\'t you want to go somewhere?\"', 'That gentle voice!', 'Gregor was\\nshocked when he heard his own voice answering, it could hardly be\\nrecognised as the voice he had had before.', 'As if from deep inside\\nhim, there was a painful and uncontrollable squeaking mixed in with\\nit, the words could be made out at first but then there was a sort\\nof echo which made them unclear, leaving the hearer unsure whether\\nhe had heard properly or not.', 'Gregor had wanted to give a full\\nanswer and explain everything, but in the circumstances contented\\nhimself with saying: \"Yes, mother, yes, thank-you, I\\'m getting up\\nnow.\"', \"The change in Gregor's voice probably could not be noticed\\noutside through the wooden door, as his mother was satisfied with\\nthis explanation and shuffled away.\", 'But this short conversation\\nmade the other members of the family aware that Gregor, against\\ntheir expectations was still at home, and soon his father came\\nknocking at one of the side doors, gently, but with his fist.', '\"Gregor, Gregor\", he called, \"what\\'s wrong?\"', 'And after a short\\nwhile he called again with a warning deepness in his voice: \"Gregor!', 'Gregor!\"', 'At the other side door his sister came plaintively:\\n\"Gregor?', \"Aren't you well?\", 'Do you need anything?\"', 'Gregor answered to\\nboth sides: \"I\\'m ready, now\", making an effort to remove all the\\nstrangeness from his voice by enunciating very carefully and putting\\nlong pauses between each, individual word.', 'His father went back to\\nhis breakfast, but his sister whispered: \"Gregor, open the door, I\\nbeg of you.\"', 'Gregor, however, had no thought of opening the door,\\nand instead congratulated himself for his cautious habit, acquired\\nfrom his travelling, of locking all doors at night even when he was\\nat home.', 'The first thing he wanted to do was to get up in peace without being\\ndisturbed, to get dressed, and most of all to have his breakfast.', 'Only then would he consider what to do next, as he was well aware\\nthat he would not bring his thoughts to any sensible conclusions by\\nlying in bed.', 'He remembered that he had often felt a slight pain in\\nbed, perhaps caused by lying awkwardly, but that had always turned\\nout to be pure imagination and he wondered how his imaginings would\\nslowly resolve themselves today.', 'He did not have the slightest\\ndoubt that the change in his voice was nothing more than the first\\nsign of a serious cold, which was an occupational hazard for\\ntravelling salesmen.', 'It was a simple matter to throw off the covers; he only had to blow\\nhimself up a little and they fell off by themselves.', 'But it became\\ndifficult after that, especially as he was so exceptionally broad.', 'He would have used his arms and his hands to push himself up; but\\ninstead of them he only had all those little legs continuously\\nmoving in different directions, and which he was moreover unable to\\ncontrol.', 'If he wanted to bend one of them, then that was the first\\none that would stretch itself out; and if he finally managed to do\\nwhat he wanted with that leg, all the others seemed to be set free\\nand would move about painfully.', '\"This is something that can\\'t be\\ndone in bed\", Gregor said to himself, \"so don\\'t keep trying to do\\nit\".', 'The first thing he wanted to do was get the lower part of his body\\nout of the bed, but he had never seen this lower part, and could not\\nimagine what it looked like; it turned out to be too hard to move;\\nit went so slowly; and finally, almost in a frenzy, when he\\ncarelessly shoved himself forwards with all the force he could\\ngather, he chose the wrong direction, hit hard against the lower\\nbedpost, and learned from the burning pain he felt that the lower\\npart of his body might well, at present, be the most sensitive.', 'So then he tried to get the top part of his body out of the bed\\nfirst, carefully turning his head to the side.', 'This he managed\\nquite easily, and despite its breadth and its weight, the bulk of\\nhis body eventually followed slowly in the direction of the head.', 'But when he had at last got his head out of the bed and into the\\nfresh air it occurred to him that if he let himself fall it would be\\na miracle if his head were not injured, so he became afraid to carry\\non pushing himself forward the same way.', 'And he could not knock\\nhimself out now at any price; better to stay in bed than lose\\nconsciousness.', 'It took just as much effort to get back to where he had been\\nearlier, but when he lay there sighing, and was once more watching\\nhis legs as they struggled against each other even harder than\\nbefore, if that was possible, he could think of no way of bringing\\npeace and order to this chaos.', 'He told himself once more that it\\nwas not possible for him to stay in bed and that the most sensible\\nthing to do would be to get free of it in whatever way he could at\\nwhatever sacrifice.', 'At the same time, though, he did not forget to\\nremind himself that calm consideration was much better than rushing\\nto desperate conclusions.', 'At times like this he would direct his\\neyes to the window and look out as clearly as he could, but\\nunfortunately, even the other side of the narrow street was\\nenveloped in morning fog and the view had little confidence or cheer\\nto offer him.', '\"Seven o\\'clock, already\", he said to himself when the\\nclock struck again, \"seven o\\'clock, and there\\'s still a fog like\\nthis.\"', 'And he lay there quietly a while longer, breathing lightly\\nas if he perhaps expected the total stillness to bring things back\\nto their real and natural state.', 'But then he said to himself: \"Before it strikes quarter past seven\\nI\\'ll definitely have to have got properly out of bed.', 'And by then\\nsomebody will have come round from work to ask what\\'s happened to me\\nas well, as they open up at work before seven o\\'clock.\"', 'And so he\\nset himself to the task of swinging the entire length of his body\\nout of the bed all at the same time.', 'If he succeeded in falling out\\nof bed in this way and kept his head raised as he did so he could\\nprobably avoid injuring it.', 'His back seemed to be quite hard, and\\nprobably nothing would happen to it falling onto the carpet.', 'His\\nmain concern was for the loud noise he was bound to make, and which\\neven through all the doors would probably raise concern if not\\nalarm.', 'But it was something that had to be risked.', 'When Gregor was already sticking half way out of the bed - the new\\nmethod was more of a game than an effort, all he had to do was rock\\nback and forth - it occurred to him how simple everything would be\\nif somebody came to help him.', 'Two strong people - he had his father\\nand the maid in mind - would have been more than enough; they would\\nonly have to push their arms under the dome of his back, peel him\\naway from the bed, bend down with the load and then be patient and\\ncareful as he swang over onto the floor, where, hopefully, the\\nlittle legs would find a use.', 'Should he really call for help\\nthough, even apart from the fact that all the doors were locked?', 'Despite all the difficulty he was in, he could not suppress a smile\\nat this thought.', 'After a while he had already moved so far across that it would have\\nbeen hard for him to keep his balance if he rocked too hard.']\n"
     ]
    }
   ],
   "source": [
    "from nltk import sent_tokenize\n",
    "sentences = sent_tokenize(text)\n",
    "print(sentences[:100])"
   ]
  },
  {
   "cell_type": "code",
   "execution_count": 8,
   "metadata": {},
   "outputs": [
    {
     "name": "stdout",
     "output_type": "stream",
     "text": [
      "['ï', 'morning', 'when', 'Gregor', 'Samsa', 'woke', 'from', 'troubled', 'dreams', 'he', 'found', 'himself', 'transformed', 'in', 'his', 'bed', 'into', 'a', 'horrible', 'vermin', 'He', 'lay', 'on', 'his', 'back', 'and', 'if', 'he', 'lifted', 'his', 'head', 'a', 'little', 'he', 'could', 'see', 'his', 'brown', 'belly', 'slightly', 'domed', 'and', 'divided', 'by', 'arches', 'into', 'stiff', 'sections', 'The', 'bedding', 'was', 'hardly', 'able', 'to', 'cover', 'it', 'and', 'seemed', 'ready', 'to', 'slide', 'off', 'any', 'moment', 'His', 'many', 'legs', 'pitifully', 'thin', 'compared', 'with', 'the', 'size', 'of', 'the', 'rest', 'of', 'him', 'waved', 'about', 'helplessly', 'as', 'he', 'looked', 'What', 'happened', 'to', 'me', 'he', 'thought', 'It', 'was', 'a', 'dream', 'His', 'room', 'a', 'proper', 'human', 'room']\n"
     ]
    }
   ],
   "source": [
    "# remove all tokens that are not alphabetic\n",
    "words = [word for word in tokens if word.isalpha()]\n",
    "print(words[:100])"
   ]
  },
  {
   "cell_type": "code",
   "execution_count": 9,
   "metadata": {},
   "outputs": [
    {
     "name": "stdout",
     "output_type": "stream",
     "text": [
      "['i', 'me', 'my', 'myself', 'we', 'our', 'ours', 'ourselves', 'you', \"you're\", \"you've\", \"you'll\", \"you'd\", 'your', 'yours', 'yourself', 'yourselves', 'he', 'him', 'his', 'himself', 'she', \"she's\", 'her', 'hers', 'herself', 'it', \"it's\", 'its', 'itself', 'they', 'them', 'their', 'theirs', 'themselves', 'what', 'which', 'who', 'whom', 'this', 'that', \"that'll\", 'these', 'those', 'am', 'is', 'are', 'was', 'were', 'be', 'been', 'being', 'have', 'has', 'had', 'having', 'do', 'does', 'did', 'doing', 'a', 'an', 'the', 'and', 'but', 'if', 'or', 'because', 'as', 'until', 'while', 'of', 'at', 'by', 'for', 'with', 'about', 'against', 'between', 'into', 'through', 'during', 'before', 'after', 'above', 'below', 'to', 'from', 'up', 'down', 'in', 'out', 'on', 'off', 'over', 'under', 'again', 'further', 'then', 'once', 'here', 'there', 'when', 'where', 'why', 'how', 'all', 'any', 'both', 'each', 'few', 'more', 'most', 'other', 'some', 'such', 'no', 'nor', 'not', 'only', 'own', 'same', 'so', 'than', 'too', 'very', 's', 't', 'can', 'will', 'just', 'don', \"don't\", 'should', \"should've\", 'now', 'd', 'll', 'm', 'o', 're', 've', 'y', 'ain', 'aren', \"aren't\", 'couldn', \"couldn't\", 'didn', \"didn't\", 'doesn', \"doesn't\", 'hadn', \"hadn't\", 'hasn', \"hasn't\", 'haven', \"haven't\", 'isn', \"isn't\", 'ma', 'mightn', \"mightn't\", 'mustn', \"mustn't\", 'needn', \"needn't\", 'shan', \"shan't\", 'shouldn', \"shouldn't\", 'wasn', \"wasn't\", 'weren', \"weren't\", 'won', \"won't\", 'wouldn', \"wouldn't\"]\n"
     ]
    }
   ],
   "source": [
    "from nltk.corpus import stopwords\n",
    "stop_words = stopwords.words('english')\n",
    "print(stop_words)"
   ]
  },
  {
   "cell_type": "code",
   "execution_count": 10,
   "metadata": {},
   "outputs": [
    {
     "name": "stdout",
     "output_type": "stream",
     "text": [
      "['ï', 'morning', 'gregor', 'samsa', 'woke', 'troubled', 'dreams', 'found', 'transformed', 'bed', 'horrible', 'vermin', 'lay', 'armourlike', 'back', 'lifted', 'head', 'little', 'could', 'see', 'brown', 'belly', 'slightly', 'domed', 'divided', 'arches', 'stiff', 'sections', 'bedding', 'hardly', 'able', 'cover', 'seemed', 'ready', 'slide', 'moment', 'many', 'legs', 'pitifully', 'thin', 'compared', 'size', 'rest', 'waved', 'helplessly', 'looked', 'happened', 'thought', 'nt', 'dream', 'room', 'proper', 'human', 'room', 'although', 'little', 'small', 'lay', 'peacefully', 'four', 'familiar', 'walls', 'collection', 'textile', 'samples', 'lay', 'spread', 'table', 'samsa', 'travelling', 'salesman', 'hung', 'picture', 'recently', 'cut', 'illustrated', 'magazine', 'housed', 'nice', 'gilded', 'frame', 'showed', 'lady', 'fitted', 'fur', 'hat', 'fur', 'boa', 'sat', 'upright', 'raising', 'heavy', 'fur', 'muff', 'covered', 'whole', 'lower', 'arm', 'towards', 'viewer']\n"
     ]
    }
   ],
   "source": [
    "# split into words\n",
    "from nltk.tokenize import word_tokenize\n",
    "tokens = word_tokenize(text)\n",
    "# convert to lower case\n",
    "tokens = [w.lower() for w in tokens]\n",
    "# remove punctuation from each word\n",
    "import string\n",
    "table = str.maketrans('', '', string.punctuation)\n",
    "stripped = [w.translate(table) for w in tokens]\n",
    "# remove remaining tokens that are not alphabetic\n",
    "words = [word for word in stripped if word.isalpha()]\n",
    "# filter out stop words\n",
    "from nltk.corpus import stopwords\n",
    "stop_words = set(stopwords.words('english'))\n",
    "words = [w for w in words if not w in stop_words]\n",
    "print(words[:100])"
   ]
  },
  {
   "cell_type": "code",
   "execution_count": 11,
   "metadata": {},
   "outputs": [
    {
     "name": "stdout",
     "output_type": "stream",
     "text": [
      "['ï', '»', '¿one', 'morn', ',', 'when', 'gregor', 'samsa', 'woke', 'from', 'troubl', 'dream', ',', 'he', 'found', 'himself', 'transform', 'in', 'hi', 'bed', 'into', 'a', 'horribl', 'vermin', '.', 'He', 'lay', 'on', 'hi', 'armour-lik', 'back', ',', 'and', 'if', 'he', 'lift', 'hi', 'head', 'a', 'littl', 'he', 'could', 'see', 'hi', 'brown', 'belli', ',', 'slightli', 'dome', 'and', 'divid', 'by', 'arch', 'into', 'stiff', 'section', '.', 'the', 'bed', 'wa', 'hardli', 'abl', 'to', 'cover', 'it', 'and', 'seem', 'readi', 'to', 'slide', 'off', 'ani', 'moment', '.', 'hi', 'mani', 'leg', ',', 'piti', 'thin', 'compar', 'with', 'the', 'size', 'of', 'the', 'rest', 'of', 'him', ',', 'wave', 'about', 'helplessli', 'as', 'he', 'look', '.', '``', 'what', \"'s\"]\n"
     ]
    }
   ],
   "source": [
    "# split into words\n",
    "from nltk.tokenize import word_tokenize\n",
    "tokens = word_tokenize(text)\n",
    "# stemming of words\n",
    "from nltk.stem.porter import PorterStemmer\n",
    "porter = PorterStemmer()\n",
    "stemmed = [porter.stem(word) for word in tokens]\n",
    "print(stemmed[:100])"
   ]
  }
 ],
 "metadata": {
  "kernelspec": {
   "display_name": "Python 3",
   "language": "python",
   "name": "python3"
  },
  "language_info": {
   "codemirror_mode": {
    "name": "ipython",
    "version": 3
   },
   "file_extension": ".py",
   "mimetype": "text/x-python",
   "name": "python",
   "nbconvert_exporter": "python",
   "pygments_lexer": "ipython3",
   "version": "3.7.0"
  }
 },
 "nbformat": 4,
 "nbformat_minor": 2
}
