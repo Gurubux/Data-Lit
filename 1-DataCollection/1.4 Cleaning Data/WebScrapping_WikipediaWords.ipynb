{
 "cells": [
  {
   "cell_type": "code",
   "execution_count": 1,
   "metadata": {},
   "outputs": [],
   "source": [
    "#import dependencies\n",
    "from bs4 import BeautifulSoup\n",
    "import requests\n",
    "import re\n",
    "import operator\n",
    "import json\n",
    "\n",
    "from tabulate import tabulate\n",
    "import sys\n",
    "from stop_words import get_stop_words"
   ]
  },
  {
   "cell_type": "code",
   "execution_count": 2,
   "metadata": {},
   "outputs": [],
   "source": [
    "#get data from Wikipedia\n",
    "wikipedia_api_link = \"https://en.wikipedia.org/w/api.php?format=json&action=query&list=search&srsearch=\"\n",
    "wikipedia_link = \"https://en.wikipedia.org/wiki/\"\n",
    "\n",
    "if(len(sys.argv) < 2):\n",
    "    print('Enter valid string')\n",
    "    exit()    "
   ]
  },
  {
   "cell_type": "code",
   "execution_count": 3,
   "metadata": {},
   "outputs": [],
   "source": [
    "#get the search word\n",
    "string_query = sys.argv[1]\n",
    "#python main.py batman yes/no\n",
    "if(len(sys.argv) >2):\n",
    "    search_mode=True\n",
    "else:\n",
    "    search_mode=False"
   ]
  },
  {
   "cell_type": "code",
   "execution_count": 4,
   "metadata": {},
   "outputs": [
    {
     "name": "stdout",
     "output_type": "stream",
     "text": [
      "https://en.wikipedia.org/w/api.php?format=json&action=query&list=search&srsearch=batman\n"
     ]
    }
   ],
   "source": [
    "#keyword you want to search\n",
    "string_query = \"batman\"\n",
    "#to remove stop words or not\n",
    "search_mode = True\n",
    "#search_mode = False\n",
    "\n",
    "\n",
    "#create our URL\n",
    "url = wikipedia_api_link+string_query\n",
    "print(url)"
   ]
  },
  {
   "cell_type": "code",
   "execution_count": 5,
   "metadata": {},
   "outputs": [],
   "source": [
    "#clean word with regex\n",
    "def clean_word(word):\n",
    "    cleaned_word = re.sub('[^A-Za-z]+', '', word)\n",
    "    return cleaned_word\n",
    "\n",
    "#remove stopwords\n",
    "def remove_stop_words(frequency_list):\n",
    "    stop_words = get_stop_words('en')\n",
    "\n",
    "    temp_list = []\n",
    "    for key,value in frequency_list:\n",
    "        if key not in stop_words:\n",
    "            temp_list.append([key, value])\n",
    "\n",
    "    return temp_list"
   ]
  },
  {
   "cell_type": "code",
   "execution_count": 6,
   "metadata": {},
   "outputs": [],
   "source": [
    "#get the words\n",
    "def getWordList(url):\n",
    "    word_list = []\n",
    "    \n",
    "    #raw data\n",
    "    source_code = requests.get(url)\n",
    "    \n",
    "    #convert to text\n",
    "    plain_text = source_code.text\n",
    "    \n",
    "    #lxml format\n",
    "    soup = BeautifulSoup(plain_text,'lxml')\n",
    "\n",
    "    #find the words in paragraph tag\n",
    "    for text in soup.findAll('p'):\n",
    "        if text.text is None:\n",
    "            continue\n",
    "        content = text.text\n",
    "        #lowercase and split into an array\n",
    "        words = content.lower().split()\n",
    "\n",
    "        for word in words:\n",
    "            #remove non-chars\n",
    "            cleaned_word = clean_word(word)\n",
    "            #if there is still something there\n",
    "            if len(cleaned_word) > 0:\n",
    "                #add it to our word list\n",
    "                word_list.append(cleaned_word)\n",
    "\n",
    "    return word_list\n",
    "\n",
    "def createFrquencyTable(word_list):\n",
    "    word_count = {}\n",
    "    for word in word_list:\n",
    "        if word in word_count:\n",
    "            word_count[word] += 1\n",
    "        else:\n",
    "            word_count[word] = 1\n",
    "\n",
    "    return word_count"
   ]
  },
  {
   "cell_type": "code",
   "execution_count": 7,
   "metadata": {},
   "outputs": [
    {
     "name": "stdout",
     "output_type": "stream",
     "text": [
      "['batman', 'is', 'a', 'superhero', 'appearing', 'in', 'american', 'comic', 'books', 'published', 'by', 'dc', 'comics', 'the', 'character', 'was', 'created', 'by', 'artist', 'bob', 'kane', 'and', 'writer', 'bill', 'finger', 'and', 'first', 'appeared', 'in', 'detective']\n",
      "[('the', 959), ('and', 423), ('batman', 402), ('of', 395), ('in', 381), ('a', 327), ('to', 270), ('as', 183), ('his', 145), ('is', 122), ('with', 121), ('was', 117), ('that', 107), ('wayne', 93), ('bruce', 92), ('he', 92), ('for', 88), ('by', 87), ('on', 84), ('batmans', 75)]\n",
      "2858\n",
      "[['batman', 402], ['wayne', 93], ['bruce', 92], ['batmans', 75], ['series', 66], ['comics', 65], ['character', 63], ['s', 51], ['dc', 50], ['robin', 48], ['also', 43], ['comic', 38], ['characters', 34], ['new', 34], ['gotham', 33], ['first', 31], ['story', 31], ['stories', 30], ['kane', 28], ['detective', 28]]\n",
      "7718\n",
      "[['batman', 402], ['wayne', 93], ['bruce', 92], ['batmans', 75], ['series', 66], ['comics', 65], ['character', 63], ['s', 51], ['dc', 50], ['robin', 48], ['also', 43], ['comic', 38], ['characters', 34], ['new', 34], ['gotham', 33], ['first', 31], ['story', 31], ['stories', 30], ['kane', 28], ['detective', 28]]\n",
      "| Word       |   Frequency |   Frequency Percentage |\n",
      "|------------+-------------+------------------------|\n",
      "| batman     |         402 |                 5.2086 |\n",
      "| wayne      |          93 |                 1.205  |\n",
      "| bruce      |          92 |                 1.192  |\n",
      "| batmans    |          75 |                 0.9718 |\n",
      "| series     |          66 |                 0.8551 |\n",
      "| comics     |          65 |                 0.8422 |\n",
      "| character  |          63 |                 0.8163 |\n",
      "| s          |          51 |                 0.6608 |\n",
      "| dc         |          50 |                 0.6478 |\n",
      "| robin      |          48 |                 0.6219 |\n",
      "| also       |          43 |                 0.5571 |\n",
      "| comic      |          38 |                 0.4924 |\n",
      "| characters |          34 |                 0.4405 |\n",
      "| new        |          34 |                 0.4405 |\n",
      "| gotham     |          33 |                 0.4276 |\n",
      "| first      |          31 |                 0.4017 |\n",
      "| story      |          31 |                 0.4017 |\n",
      "| stories    |          30 |                 0.3887 |\n",
      "| kane       |          28 |                 0.3628 |\n",
      "| detective  |          28 |                 0.3628 |\n"
     ]
    }
   ],
   "source": [
    "\n",
    "#parse data\n",
    "try:\n",
    "    #use requests to retrieve raw data from wiki API URL we\n",
    "    #just constructed\n",
    "    response = requests.get(url)\n",
    "    #format that data as a JSON dictionary\n",
    "    data = json.loads(response.content.decode(\"utf-8\"))\n",
    "\n",
    "    #page title, first option\n",
    "    #show this in web browser\n",
    "    wikipedia_page_tag = data['query']['search'][0]['title']\n",
    "\n",
    "    #get actual wiki page based on retrieved title\n",
    "    url = wikipedia_link + wikipedia_page_tag\n",
    "    \n",
    "    #get list of words from that page\n",
    "    page_word_list = getWordList(url)\n",
    "    print(page_word_list[:30])\n",
    "    \n",
    "    #create table of word counts, dictionary - [('word1':#count) , ('word2':#count)...)]\n",
    "    page_word_count = createFrquencyTable(page_word_list)\n",
    "    \n",
    "    #sort the table by the frequency count\n",
    "    sorted_word_frequency_list = sorted(page_word_count.items(), key=operator.itemgetter(1), reverse=True)#[['word1':#countMax] , ['word2':#count]...)]\n",
    "    print(len(sorted_word_frequency_list))\n",
    "    \n",
    "    #remove stop words if the user specified\n",
    "    if(search_mode):\n",
    "        sorted_word_frequency_list = remove_stop_words(sorted_word_frequency_list)\n",
    "        print(len(sorted_word_frequency_list))\n",
    "    print(sorted_word_frequency_list[:20])\n",
    "    \n",
    "    #sum the total words to calculate frequencies   \n",
    "    total_words_sum = 0\n",
    "    for key,value in sorted_word_frequency_list:\n",
    "        total_words_sum = total_words_sum + value\n",
    "    print(total_words_sum)\n",
    "    \n",
    "    #just get the top 20 words\n",
    "    if len(sorted_word_frequency_list) > 20:\n",
    "        sorted_word_frequency_list = sorted_word_frequency_list[:20]\n",
    "        print(sorted_word_frequency_list)\n",
    "\n",
    "    #create our final list which contains words, frequency (word count), percentage\n",
    "    final_list = []\n",
    "    for key,value in sorted_word_frequency_list:\n",
    "        percentage_value = float(value * 100) / total_words_sum\n",
    "        final_list.append([key, value, round(percentage_value, 4)])\n",
    "\n",
    "    #headers before the table\n",
    "    print_headers = ['Word', 'Frequency', 'Frequency Percentage']\n",
    "\n",
    "    #print the table with tabulate\n",
    "    print(tabulate(final_list, headers=print_headers, tablefmt='orgtbl'))\n",
    "\n",
    "#throw an exception in case it breaks\n",
    "except requests.exceptions.Timeout:\n",
    "    print(\"The server didn't respond. Please, try again later.\")"
   ]
  },
  {
   "cell_type": "code",
   "execution_count": null,
   "metadata": {},
   "outputs": [],
   "source": []
  }
 ],
 "metadata": {
  "kernelspec": {
   "display_name": "Python 3",
   "language": "python",
   "name": "python3"
  },
  "language_info": {
   "codemirror_mode": {
    "name": "ipython",
    "version": 3
   },
   "file_extension": ".py",
   "mimetype": "text/x-python",
   "name": "python",
   "nbconvert_exporter": "python",
   "pygments_lexer": "ipython3",
   "version": "3.7.0"
  }
 },
 "nbformat": 4,
 "nbformat_minor": 2
}
